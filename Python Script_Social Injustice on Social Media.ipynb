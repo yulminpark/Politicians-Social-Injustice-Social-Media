{
  "nbformat": 4,
  "nbformat_minor": 0,
  "metadata": {
    "colab": {
      "provenance": []
    },
    "kernelspec": {
      "name": "python3",
      "display_name": "Python 3"
    },
    "language_info": {
      "name": "python"
    }
  },
  "cells": [
    {
      "cell_type": "markdown",
      "source": [
        "## **Python Coding Script**\n",
        "### 'Peaceful Protest’ or ‘Violent Riot’? U.S. Politicians’ Attitudes Toward George Floyd’s Protests: Multi-Level and Time-Series Analyses of Twitter Posts in 2020"
      ],
      "metadata": {
        "id": "hyvDbVfEUznc"
      }
    },
    {
      "cell_type": "code",
      "source": [
        "import os\n",
        "os.system('clear')"
      ],
      "metadata": {
        "id": "8VtPJb7-VFxi"
      },
      "execution_count": null,
      "outputs": []
    },
    {
      "cell_type": "code",
      "source": [
        "from datetime import date, datetime, timezone\n",
        "import asyncio\n",
        "import json\n",
        "import pandas as pd\n",
        "import numpy as np\n",
        "import matplotlib.pyplot as plt\n",
        "import matplotlib as mpl"
      ],
      "metadata": {
        "id": "g7af0dRXVKdu"
      },
      "execution_count": null,
      "outputs": []
    },
    {
      "cell_type": "code",
      "source": [
        "! pip install twarc\n",
        "from twarc import Twarc2"
      ],
      "metadata": {
        "id": "J0SHmAdgVMs_"
      },
      "execution_count": null,
      "outputs": []
    },
    {
      "cell_type": "code",
      "source": [
        "bearer_token = \"XXX\" # replace the XXX with your bearer token\n",
        "twarc_client = Twarc2(bearer_token=bearer_token)"
      ],
      "metadata": {
        "id": "VVQoqFHKVNOc"
      },
      "execution_count": null,
      "outputs": []
    },
    {
      "cell_type": "markdown",
      "source": [
        "# **1. Create datasets of:**\n",
        "(1) Tweets from *all* Senators in the first 2 weeks (from May 26 to June 9, 2020)\n",
        "\n",
        "(2) Tweets from *Dem* Senators in the first 2 weeks \n",
        "\n",
        "(3) Tweets from *Rep* Senators in the first 2 weeks\n",
        "\n",
        "(4) Tweets from *all* Senators before Election Day (from May 26 to Nov 3, 2020)\n",
        "\n",
        "(5) Tweets from *Dem* Senators before Election Day\n",
        "\n",
        "(6) Tweets from *Rep* Senators before Election Day"
      ],
      "metadata": {
        "id": "NGbwdpyeVUbw"
      }
    },
    {
      "cell_type": "code",
      "source": [
        "# First, retrieving Tweets from May 26 to June 9, 2020\n",
        "# (1) for all Senators\n",
        "accounts = [\"lisamurkowski\", \"SenDanSullivan\", \"SenDougJones\", \"SenShelby\", \"JohnBoozman\", \"SenTomCotton\", \"MarthaMcSallyAZ\", \"SenatorSinema\", \"SenFeinstein\", \"VP\",\n",
        "            \"SenatorBennet\", \"SenCoryGardner\", \"SenBlumenthal\", \"ChrisMurphyCT\", \"SenatorCarper\", \"ChrisCoons\", \"SenRubioPress\", \"SenRickScott\", \"KLoeffler\", \"sendavidperdue\",\n",
        "            \"maziehirono\", \"SenBrianSchatz\", \"SenJoniErnst\", \"ChuckGrassley\", \"MikeCrapo\", \"SenatorRisch\", \"SenDuckworth\", \"SenatorDurbin\", \"SenatorBraun\", \"SenToddYoung\",\n",
        "            \"JerryMoran\", \"SenPatRoberts\", \"LeaderMcConnell\", \"RandPaul\", \"SenBillCassidy\", \"SenJohnKennedy\", \"SenMarkey\", \"SenWarren\", \"SenatorCardin\", \"ChrisVanHollen\",\n",
        "            \"SenatorCollins\", \"SenAngusKing\", \"SenGaryPeters\", \"SenStabenow\", \"amyklobuchar\", \"SenTinaSmith\", \"RoyBlunt\", \"SenHawleyPress\", \"SenHydeSmith\", \"SenatorWicker\",\n",
        "            \"SenatorTester\", \"SteveDaines\", \"SenatorBurr\", \"SenThomTillis\", \"SenKevinCramer\", \"SenJohnHoeven\", \"SenatorFischer\", \"SenSasse\", \"SenatorHassan\", \"SenatorShaheen\",\n",
        "            \"SenBooker\", \"SenatorMenendez\", \"MartinHeinrich\", \"SenatorTomUdall\", \"SenCortezMasto\", \"SenJackyRosen\", \"gillibrandny\", \"SenSchumer\", \"SenSherrodBrown\", \"senrobportman\",\n",
        "            \"JimInhofe\", \"SenatorLankford\", \"SenJeffMerkley\", \"RonWyden\", \"SenBobCasey\", \"SenToomey\", \"SenJackReed\", \"SenWhitehouse\", \"LindseyGrahamSC\", \"SenatorTimScott\",\n",
        "            \"SenatorRounds\", \"SenJohnThune\", \"SenAlexander\", \"MarshaBlackburn\", \"JohnCornyn\", \"SenTedCruz\", \"SenMikeLee\", \"SenatorRomney\", \"timkaine\", \"MarkWarner\",\n",
        "            \"SenatorLeahy\", \"SenSanders\", \"SenatorCantwell\", \"PattyMurray\", \"SenatorBaldwin\", \"SenRonJohnson\", \"SenCapito\", \"Sen_JoeManchin\", \"SenJohnBarrasso\", \"SenatorEnzi\"]\n",
        "start = datetime(2020, 5, 26, 0, 0, 0, 0, tzinfo=timezone.utc)\n",
        "end = datetime(2020, 6, 9, 0, 0, 0, 0, tzinfo=timezone.utc)\n",
        "tweets = []\n",
        "for account in accounts:\n",
        "  query = f\"from: {account}\"\n",
        "  for c in twarc_client.search_all(\n",
        "    query, \n",
        "    start_time=start, \n",
        "    end_time=end):\n",
        "    tweets.append(c)"
      ],
      "metadata": {
        "id": "xLmJvnXpVbAK"
      },
      "execution_count": null,
      "outputs": []
    },
    {
      "cell_type": "code",
      "source": [
        "# converting the JSON entries to a pandas DataFrame\n",
        "df1 = pd.json_normalize(tweets, record_path=['data'])\n",
        "df1 = df1.sort_values(by=\"created_at\", ascending = True)\n",
        "print(df1)\n",
        "\n",
        "# creating a pandas DataFrame of Tweets that mention \"George\" \"Floyd\" \"protest\"\n",
        "df1_floyd = df1[df1['text'].str.contains('george|floyd|protest', case=False)]\n",
        "df1_floyd = df1_floyd.sort_values(by=\"created_at\", ascending = True)\n",
        "print(df1_floyd)"
      ],
      "metadata": {
        "id": "7xDvyqqkVvEe"
      },
      "execution_count": null,
      "outputs": []
    },
    {
      "cell_type": "code",
      "source": [
        "# (2) for just the Democrats\n",
        "accounts = [\"SenDougJones\", \"SenatorSinema\", \"SenFeinstein\", \"VP\", \"SenatorBennet\", \"SenBlumenthal\", \"ChrisMurphyCT\", \"SenatorCarper\", \"ChrisCoons\",\n",
        "            \"maziehirono\", \"SenBrianSchatz\", \"SenDuckworth\", \"SenatorDurbin\", \"SenMarkey\", \"SenWarren\", \"SenatorCardin\", \"ChrisVanHollen\",\n",
        "            \"SenGaryPeters\", \"SenStabenow\", \"amyklobuchar\", \"SenTinaSmith\", \"SenatorTester\", \"SenatorHassan\", \"SenatorShaheen\",\n",
        "            \"SenBooker\", \"SenatorMenendez\", \"MartinHeinrich\", \"SenatorTomUdall\", \"SenCortezMasto\", \"SenJackyRosen\", \"gillibrandny\", \"SenSchumer\", \"SenSherrodBrown\",\n",
        "            \"SenJeffMerkley\", \"RonWyden\", \"SenBobCasey\", \"SenJackReed\", \"SenWhitehouse\", \"timkaine\", \"MarkWarner\",\n",
        "            \"SenatorLeahy\", \"SenatorCantwell\", \"PattyMurray\", \"SenatorBaldwin\", \"Sen_JoeManchin\"]\n",
        "start = datetime(2020, 5, 26, 0, 0, 0, 0, tzinfo=timezone.utc)\n",
        "end = datetime(2020, 6, 9, 0, 0, 0, 0, tzinfo=timezone.utc)\n",
        "tweets = []\n",
        "for account in accounts:\n",
        "  query = f\"from: {account}\"\n",
        "  for c in twarc_client.search_all(\n",
        "    query, \n",
        "    start_time=start, \n",
        "    end_time=end):\n",
        "    tweets.append(c)\n",
        "\n",
        "# converting the JSON entries to a pandas DataFrame\n",
        "df2 = pd.json_normalize(tweets, record_path=['data'])\n",
        "df2 = df2.sort_values(by=\"created_at\", ascending = True)\n",
        "print(df2)\n",
        "\n",
        "# creating a pandas DataFrame of Tweets that mention \"George\" \"Floyd\" \"protest\"\n",
        "df2_floyd = df2[df2['text'].str.contains('george|floyd|protest', case=False)]\n",
        "df2_floyd = df2_floyd.sort_values(by=\"created_at\", ascending = True)\n",
        "print(df2_floyd)"
      ],
      "metadata": {
        "id": "8DKd612jV8Z2"
      },
      "execution_count": null,
      "outputs": []
    },
    {
      "cell_type": "code",
      "source": [
        "# (3) for just the Republicans\n",
        "accounts = [\"lisamurkowski\", \"SenDanSullivan\", \"SenShelby\", \"JohnBoozman\", \"SenTomCotton\", \"MarthaMcSallyAZ\", \"SenCoryGardner\", \"SenRubioPress\", \"SenRickScott\", \"KLoeffler\", \"sendavidperdue\",\n",
        "            \"SenJoniErnst\", \"ChuckGrassley\", \"MikeCrapo\", \"SenatorRisch\", \"SenatorBraun\", \"SenToddYoung\", \"JerryMoran\", \"SenPatRoberts\", \"LeaderMcConnell\", \"RandPaul\", \"SenBillCassidy\", \"SenJohnKennedy\",\n",
        "            \"SenatorCollins\", \"RoyBlunt\", \"SenHawleyPress\", \"SenHydeSmith\", \"SenatorWicker\", \"SteveDaines\", \"SenatorBurr\", \"SenThomTillis\", \"SenKevinCramer\", \"SenJohnHoeven\", \"SenatorFischer\", \"SenSasse\",\n",
        "            \"senrobportman\", \"JimInhofe\", \"SenatorLankford\", \"SenToomey\", \"LindseyGrahamSC\", \"SenatorTimScott\", \"SenatorRounds\", \"SenJohnThune\", \"SenAlexander\", \"MarshaBlackburn\", \"JohnCornyn\", \"SenTedCruz\", \"SenMikeLee\", \"SenatorRomney\",\n",
        "            \"SenRonJohnson\", \"SenCapito\", \"SenJohnBarrasso\", \"SenatorEnzi\"]\n",
        "start = datetime(2020, 5, 26, 0, 0, 0, 0, tzinfo=timezone.utc)\n",
        "end = datetime(2020, 6, 9, 0, 0, 0, 0, tzinfo=timezone.utc)\n",
        "tweets = []\n",
        "for account in accounts:\n",
        "  query = f\"from: {account}\"\n",
        "  for c in twarc_client.search_all(\n",
        "    query, \n",
        "    start_time=start, \n",
        "    end_time=end):\n",
        "    tweets.append(c)\n",
        "\n",
        "# converting the JSON entries to a pandas DataFrame\n",
        "df3 = pd.json_normalize(tweets, record_path=['data'])\n",
        "df3 = df3.sort_values(by=\"created_at\", ascending = True)\n",
        "print(df3)\n",
        "\n",
        "# creating a pandas DataFrame of Tweets that mention \"George\" \"Floyd\" \"protest\"\n",
        "df3_floyd = df3[df3['text'].str.contains('george|floyd|protest', case=False)]\n",
        "df3_floyd = df3_floyd.sort_values(by=\"created_at\", ascending = True)\n",
        "print(df3_floyd)"
      ],
      "metadata": {
        "id": "ZwY4_F4xWCVL"
      },
      "execution_count": null,
      "outputs": []
    },
    {
      "cell_type": "code",
      "source": [
        "# Next, retrieving Tweets from May 26 to November 3, 2020\n",
        "# (4) for all Senators\n",
        "accounts = [\"lisamurkowski\", \"SenDanSullivan\", \"SenDougJones\", \"SenShelby\", \"JohnBoozman\", \"SenTomCotton\", \"MarthaMcSallyAZ\", \"SenatorSinema\", \"SenFeinstein\", \"VP\",\n",
        "            \"SenatorBennet\", \"SenCoryGardner\", \"SenBlumenthal\", \"ChrisMurphyCT\", \"SenatorCarper\", \"ChrisCoons\", \"SenRubioPress\", \"SenRickScott\", \"KLoeffler\", \"sendavidperdue\",\n",
        "            \"maziehirono\", \"SenBrianSchatz\", \"SenJoniErnst\", \"ChuckGrassley\", \"MikeCrapo\", \"SenatorRisch\", \"SenDuckworth\", \"SenatorDurbin\", \"SenatorBraun\", \"SenToddYoung\",\n",
        "            \"JerryMoran\", \"SenPatRoberts\", \"LeaderMcConnell\", \"RandPaul\", \"SenBillCassidy\", \"SenJohnKennedy\", \"SenMarkey\", \"SenWarren\", \"SenatorCardin\", \"ChrisVanHollen\",\n",
        "            \"SenatorCollins\", \"SenAngusKing\", \"SenGaryPeters\", \"SenStabenow\", \"amyklobuchar\", \"SenTinaSmith\", \"RoyBlunt\", \"SenHawleyPress\", \"SenHydeSmith\", \"SenatorWicker\",\n",
        "            \"SenatorTester\", \"SteveDaines\", \"SenatorBurr\", \"SenThomTillis\", \"SenKevinCramer\", \"SenJohnHoeven\", \"SenatorFischer\", \"SenSasse\", \"SenatorHassan\", \"SenatorShaheen\",\n",
        "            \"SenBooker\", \"SenatorMenendez\", \"MartinHeinrich\", \"SenatorTomUdall\", \"SenCortezMasto\", \"SenJackyRosen\", \"gillibrandny\", \"SenSchumer\", \"SenSherrodBrown\", \"senrobportman\",\n",
        "            \"JimInhofe\", \"SenatorLankford\", \"SenJeffMerkley\", \"RonWyden\", \"SenBobCasey\", \"SenToomey\", \"SenJackReed\", \"SenWhitehouse\", \"LindseyGrahamSC\", \"SenatorTimScott\",\n",
        "            \"SenatorRounds\", \"SenJohnThune\", \"SenAlexander\", \"MarshaBlackburn\", \"JohnCornyn\", \"SenTedCruz\", \"SenMikeLee\", \"SenatorRomney\", \"timkaine\", \"MarkWarner\",\n",
        "            \"SenatorLeahy\", \"SenSanders\", \"SenatorCantwell\", \"PattyMurray\", \"SenatorBaldwin\", \"SenRonJohnson\", \"SenCapito\", \"Sen_JoeManchin\", \"SenJohnBarrasso\", \"SenatorEnzi\"]\n",
        "start = datetime(2020, 5, 26, 0, 0, 0, 0, tzinfo=timezone.utc)\n",
        "end = datetime(2020, 11, 3, 0, 0, 0, 0, tzinfo=timezone.utc)\n",
        "tweets = []\n",
        "for account in accounts:\n",
        "  query = f\"from: {account}\"\n",
        "  for c in twarc_client.search_all(\n",
        "    query, \n",
        "    start_time=start, \n",
        "    end_time=end):\n",
        "    tweets.append(c)\n",
        "\n",
        "# converting the JSON entries to a pandas DataFrame\n",
        "df4 = pd.json_normalize(tweets, record_path=['data'])\n",
        "df4 = df4.sort_values(by=\"created_at\", ascending = True)\n",
        "print(df4)\n",
        "\n",
        "# creating a pandas DataFrame of Tweets that mention \"George\" \"Floyd\" \"protest\"\n",
        "df4_floyd = df4[df4['text'].str.contains('george|floyd|protest', case=False)]\n",
        "df4_floyd = df4_floyd.sort_values(by=\"created_at\", ascending = True)\n",
        "print(df4_floyd)"
      ],
      "metadata": {
        "id": "lRq_KAwMWE7u"
      },
      "execution_count": null,
      "outputs": []
    },
    {
      "cell_type": "code",
      "source": [
        "# (5) for just the Democrats\n",
        "accounts = [\"SenDougJones\", \"SenatorSinema\", \"SenFeinstein\", \"VP\", \"SenatorBennet\", \"SenBlumenthal\", \"ChrisMurphyCT\", \"SenatorCarper\", \"ChrisCoons\",\n",
        "            \"maziehirono\", \"SenBrianSchatz\", \"SenDuckworth\", \"SenatorDurbin\", \"SenMarkey\", \"SenWarren\", \"SenatorCardin\", \"ChrisVanHollen\",\n",
        "            \"SenGaryPeters\", \"SenStabenow\", \"amyklobuchar\", \"SenTinaSmith\", \"SenatorTester\", \"SenatorHassan\", \"SenatorShaheen\",\n",
        "            \"SenBooker\", \"SenatorMenendez\", \"MartinHeinrich\", \"SenatorTomUdall\", \"SenCortezMasto\", \"SenJackyRosen\", \"gillibrandny\", \"SenSchumer\", \"SenSherrodBrown\",\n",
        "            \"SenJeffMerkley\", \"RonWyden\", \"SenBobCasey\", \"SenJackReed\", \"SenWhitehouse\", \"timkaine\", \"MarkWarner\",\n",
        "            \"SenatorLeahy\", \"SenatorCantwell\", \"PattyMurray\", \"SenatorBaldwin\", \"Sen_JoeManchin\"]\n",
        "start = datetime(2020, 5, 26, 0, 0, 0, 0, tzinfo=timezone.utc)\n",
        "end = datetime(2020, 11, 3, 0, 0, 0, 0, tzinfo=timezone.utc)\n",
        "tweets = []\n",
        "for account in accounts:\n",
        "  query = f\"from: {account}\"\n",
        "  for c in twarc_client.search_all(\n",
        "    query, \n",
        "    start_time=start, \n",
        "    end_time=end):\n",
        "    tweets.append(c)\n",
        "\n",
        "# converting the JSON entries to a pandas DataFrame\n",
        "df5 = pd.json_normalize(tweets, record_path=['data'])\n",
        "df5 = df5.sort_values(by=\"created_at\", ascending = True)\n",
        "print(df5)\n",
        "\n",
        "# creating a pandas DataFrame of Tweets that mention \"George\" \"Floyd\" \"protest\"\n",
        "df5_floyd = df5[df5['text'].str.contains('george|floyd|protest', case=False)]\n",
        "df5_floyd = df5_floyd.sort_values(by=\"created_at\", ascending = True)\n",
        "print(df5_floyd)"
      ],
      "metadata": {
        "id": "6ikC5PzVWHDn"
      },
      "execution_count": null,
      "outputs": []
    },
    {
      "cell_type": "code",
      "source": [
        "# (6) for just the Republicans\n",
        "accounts = [\"lisamurkowski\", \"SenDanSullivan\", \"SenShelby\", \"JohnBoozman\", \"SenTomCotton\", \"MarthaMcSallyAZ\", \"SenCoryGardner\", \"SenRubioPress\", \"SenRickScott\", \"KLoeffler\", \"sendavidperdue\",\n",
        "            \"SenJoniErnst\", \"ChuckGrassley\", \"MikeCrapo\", \"SenatorRisch\", \"SenatorBraun\", \"SenToddYoung\", \"JerryMoran\", \"SenPatRoberts\", \"LeaderMcConnell\", \"RandPaul\", \"SenBillCassidy\", \"SenJohnKennedy\",\n",
        "            \"SenatorCollins\", \"RoyBlunt\", \"SenHawleyPress\", \"SenHydeSmith\", \"SenatorWicker\", \"SteveDaines\", \"SenatorBurr\", \"SenThomTillis\", \"SenKevinCramer\", \"SenJohnHoeven\", \"SenatorFischer\", \"SenSasse\",\n",
        "            \"senrobportman\", \"JimInhofe\", \"SenatorLankford\", \"SenToomey\", \"LindseyGrahamSC\", \"SenatorTimScott\", \"SenatorRounds\", \"SenJohnThune\", \"SenAlexander\", \"MarshaBlackburn\", \"JohnCornyn\", \"SenTedCruz\", \"SenMikeLee\", \"SenatorRomney\",\n",
        "            \"SenRonJohnson\", \"SenCapito\", \"SenJohnBarrasso\", \"SenatorEnzi\"]\n",
        "start = datetime(2020, 5, 26, 0, 0, 0, 0, tzinfo=timezone.utc)\n",
        "end = datetime(2020, 11, 3, 0, 0, 0, 0, tzinfo=timezone.utc)\n",
        "tweets = []\n",
        "for account in accounts:\n",
        "  query = f\"from: {account}\"\n",
        "  for c in twarc_client.search_all(\n",
        "    query, \n",
        "    start_time=start, \n",
        "    end_time=end):\n",
        "    tweets.append(c)\n",
        "\n",
        "# converting the JSON entries to a pandas DataFrame\n",
        "df6 = pd.json_normalize(tweets, record_path=['data'])\n",
        "df6 = df6.sort_values(by=\"created_at\", ascending = True)\n",
        "print(df6)\n",
        "\n",
        "# creating a pandas DataFrame of Tweets that mention \"George\" \"Floyd\" \"protest\"\n",
        "df6_floyd = df6[df6['text'].str.contains('george|floyd|protest', case=False)]\n",
        "df6_floyd = df6_floyd.sort_values(by=\"created_at\", ascending = True)\n",
        "print(df6_floyd)"
      ],
      "metadata": {
        "id": "hXfjdtkJWKTE"
      },
      "execution_count": null,
      "outputs": []
    },
    {
      "cell_type": "code",
      "source": [
        "# saving dataframes as csv file\n",
        "df1.to_excel('all_2weeks.xlsx')\n",
        "df1_floyd.to_excel('all_floyd_2weeks.xlsx')\n",
        "df2.to_excel('dem_2weeks.xlsx')\n",
        "df2_floyd.to_excel('dem_floyd_2weeks.xlsx')\n",
        "df3.to_excel('rep_2weeks.xlsx')\n",
        "df3_floyd.to_excel('rep_floyd_2weeks.xlsx')\n",
        "df4.to_excel('all_fulltime.xlsx')\n",
        "df4_floyd.to_excel('all_floyd_fulltime.xlsx')\n",
        "df5.to_excel('dem_fulltime.xlsx')\n",
        "df5_floyd.to_excel('dem_floyd_fulltime.xlsx')\n",
        "df6.to_excel('rep_fulltime.xlsx')\n",
        "df6_floyd.to_excel('rep_floyd_fulltime.xlsx')"
      ],
      "metadata": {
        "id": "BxHZzJNMWXMf"
      },
      "execution_count": null,
      "outputs": []
    },
    {
      "cell_type": "markdown",
      "source": [
        "# **2. Visualize Tweet counts**\n",
        "# **2-1. All Tweets**"
      ],
      "metadata": {
        "id": "ImWZd5KRWbDA"
      }
    },
    {
      "cell_type": "code",
      "source": [
        "# First, Tweets counts *in the first 2 weeks*\n",
        "# (1) *All* Tweet counts for all Senators *in the first 2 weeks*\n",
        "accounts = [\"lisamurkowski\", \"SenDanSullivan\", \"SenDougJones\", \"SenShelby\", \"JohnBoozman\", \"SenTomCotton\", \"MarthaMcSallyAZ\", \"SenatorSinema\", \"SenFeinstein\", \"VP\",\n",
        "            \"SenatorBennet\", \"SenCoryGardner\", \"SenBlumenthal\", \"ChrisMurphyCT\", \"SenatorCarper\", \"ChrisCoons\", \"SenRubioPress\", \"SenRickScott\", \"KLoeffler\", \"sendavidperdue\",\n",
        "            \"maziehirono\", \"SenBrianSchatz\", \"SenJoniErnst\", \"ChuckGrassley\", \"MikeCrapo\", \"SenatorRisch\", \"SenDuckworth\", \"SenatorDurbin\", \"SenatorBraun\", \"SenToddYoung\",\n",
        "            \"JerryMoran\", \"SenPatRoberts\", \"LeaderMcConnell\", \"RandPaul\", \"SenBillCassidy\", \"SenJohnKennedy\", \"SenMarkey\", \"SenWarren\", \"SenatorCardin\", \"ChrisVanHollen\",\n",
        "            \"SenatorCollins\", \"SenAngusKing\", \"SenGaryPeters\", \"SenStabenow\", \"amyklobuchar\", \"SenTinaSmith\", \"RoyBlunt\", \"SenHawleyPress\", \"SenHydeSmith\", \"SenatorWicker\",\n",
        "            \"SenatorTester\", \"SteveDaines\", \"SenatorBurr\", \"SenThomTillis\", \"SenKevinCramer\", \"SenJohnHoeven\", \"SenatorFischer\", \"SenSasse\", \"SenatorHassan\", \"SenatorShaheen\",\n",
        "            \"SenBooker\", \"SenatorMenendez\", \"MartinHeinrich\", \"SenatorTomUdall\", \"SenCortezMasto\", \"SenJackyRosen\", \"gillibrandny\", \"SenSchumer\", \"SenSherrodBrown\", \"senrobportman\",\n",
        "            \"JimInhofe\", \"SenatorLankford\", \"SenJeffMerkley\", \"RonWyden\", \"SenBobCasey\", \"SenToomey\", \"SenJackReed\", \"SenWhitehouse\", \"LindseyGrahamSC\", \"SenatorTimScott\",\n",
        "            \"SenatorRounds\", \"SenJohnThune\", \"SenAlexander\", \"MarshaBlackburn\", \"JohnCornyn\", \"SenTedCruz\", \"SenMikeLee\", \"SenatorRomney\", \"timkaine\", \"MarkWarner\",\n",
        "            \"SenatorLeahy\", \"SenSanders\", \"SenatorCantwell\", \"PattyMurray\", \"SenatorBaldwin\", \"SenRonJohnson\", \"SenCapito\", \"Sen_JoeManchin\", \"SenJohnBarrasso\", \"SenatorEnzi\"]\n",
        "start = datetime(2020, 5, 26, 0, 0, 0, 0, tzinfo=timezone.utc)\n",
        "end = datetime(2020, 6, 9, 0, 0, 0, 0, tzinfo=timezone.utc)\n",
        "day_counts = []\n",
        "for account in accounts:\n",
        "  query = f\"from: {account}\"\n",
        "  for c in twarc_client.counts_all(\n",
        "    query, \n",
        "    start_time=start, \n",
        "    end_time=end, \n",
        "    granularity='day'):\n",
        "    \n",
        "    day_counts.extend(c['data'])\n",
        "\n",
        "# saving the JSON to a file\n",
        "with open(\"counts_senators.json\", \"w\") as counts_file:\n",
        "    json_object = json.dumps(day_counts)\n",
        "    counts_file.write(json_object)\n",
        "\n",
        "df1_1 = pd.read_json(\"counts_senators.json\")\n",
        "count_all_2weeks = df1_1.groupby(by=\"start\", as_index = False).sum()\n",
        "count_all_2weeks"
      ],
      "metadata": {
        "id": "vBAKYrn5Waje"
      },
      "execution_count": null,
      "outputs": []
    },
    {
      "cell_type": "code",
      "source": [
        "# (2) *All* Tweet counts for Democrats *in the first 2 weeks*\n",
        "accounts = [\"SenDougJones\", \"SenatorSinema\", \"SenFeinstein\", \"VP\", \"SenatorBennet\", \"SenBlumenthal\", \"ChrisMurphyCT\", \"SenatorCarper\", \"ChrisCoons\",\n",
        "            \"maziehirono\", \"SenBrianSchatz\", \"SenDuckworth\", \"SenatorDurbin\", \"SenMarkey\", \"SenWarren\", \"SenatorCardin\", \"ChrisVanHollen\",\n",
        "            \"SenGaryPeters\", \"SenStabenow\", \"amyklobuchar\", \"SenTinaSmith\", \"SenatorTester\", \"SenatorHassan\", \"SenatorShaheen\",\n",
        "            \"SenBooker\", \"SenatorMenendez\", \"MartinHeinrich\", \"SenatorTomUdall\", \"SenCortezMasto\", \"SenJackyRosen\", \"gillibrandny\", \"SenSchumer\", \"SenSherrodBrown\",\n",
        "            \"SenJeffMerkley\", \"RonWyden\", \"SenBobCasey\", \"SenJackReed\", \"SenWhitehouse\", \"timkaine\", \"MarkWarner\",\n",
        "            \"SenatorLeahy\", \"SenatorCantwell\", \"PattyMurray\", \"SenatorBaldwin\", \"Sen_JoeManchin\"]\n",
        "start = datetime(2020, 5, 26, 0, 0, 0, 0, tzinfo=timezone.utc)\n",
        "end = datetime(2020, 6, 9, 0, 0, 0, 0, tzinfo=timezone.utc)\n",
        "day_counts = []\n",
        "for account in accounts:\n",
        "  query = f\"from: {account}\"\n",
        "  for c in twarc_client.counts_all(\n",
        "    query, \n",
        "    start_time=start, \n",
        "    end_time=end, \n",
        "    granularity='day'):\n",
        "    \n",
        "    day_counts.extend(c['data'])\n",
        "\n",
        "# saving the JSON to a file\n",
        "with open(\"counts_dems.json\", \"w\") as counts_file:\n",
        "    json_object = json.dumps(day_counts)\n",
        "    counts_file.write(json_object)\n",
        "\n",
        "df2_1 = pd.read_json(\"counts_dems.json\")\n",
        "count_dem_2weeks = df2_1.groupby(by=\"start\", as_index = False).sum()\n",
        "count_dem_2weeks"
      ],
      "metadata": {
        "id": "puedJ_HJWwlK"
      },
      "execution_count": null,
      "outputs": []
    },
    {
      "cell_type": "code",
      "source": [
        "# (3) *All* Tweet counts for Republicans *in the first 2 weeks*\n",
        "accounts = [\"lisamurkowski\", \"SenDanSullivan\", \"SenShelby\", \"JohnBoozman\", \"SenTomCotton\", \"MarthaMcSallyAZ\", \"SenCoryGardner\", \"SenRubioPress\", \"SenRickScott\", \"KLoeffler\", \"sendavidperdue\",\n",
        "            \"SenJoniErnst\", \"ChuckGrassley\", \"MikeCrapo\", \"SenatorRisch\", \"SenatorBraun\", \"SenToddYoung\", \"JerryMoran\", \"SenPatRoberts\", \"LeaderMcConnell\", \"RandPaul\", \"SenBillCassidy\", \"SenJohnKennedy\",\n",
        "            \"SenatorCollins\", \"RoyBlunt\", \"SenHawleyPress\", \"SenHydeSmith\", \"SenatorWicker\", \"SteveDaines\", \"SenatorBurr\", \"SenThomTillis\", \"SenKevinCramer\", \"SenJohnHoeven\", \"SenatorFischer\", \"SenSasse\",\n",
        "            \"senrobportman\", \"JimInhofe\", \"SenatorLankford\", \"SenToomey\", \"LindseyGrahamSC\", \"SenatorTimScott\", \"SenatorRounds\", \"SenJohnThune\", \"SenAlexander\", \"MarshaBlackburn\", \"JohnCornyn\", \"SenTedCruz\", \"SenMikeLee\", \"SenatorRomney\",\n",
        "            \"SenRonJohnson\", \"SenCapito\", \"SenJohnBarrasso\", \"SenatorEnzi\"]\n",
        "start = datetime(2020, 5, 26, 0, 0, 0, 0, tzinfo=timezone.utc)\n",
        "end = datetime(2020, 6, 9, 0, 0, 0, 0, tzinfo=timezone.utc)\n",
        "day_counts = []\n",
        "for account in accounts:\n",
        "  query = f\"from: {account}\"\n",
        "  for c in twarc_client.counts_all(\n",
        "    query, \n",
        "    start_time=start, \n",
        "    end_time=end, \n",
        "    granularity='day'):\n",
        "    \n",
        "    day_counts.extend(c['data'])\n",
        "\n",
        "# saving the JSON to a file\n",
        "with open(\"counts_reps.json\", \"w\") as counts_file:\n",
        "    json_object = json.dumps(day_counts)\n",
        "    counts_file.write(json_object)\n",
        "\n",
        "df3_1 = pd.read_json(\"counts_reps.json\")\n",
        "count_rep_2weeks = df3_1.groupby(by=\"start\", as_index = False).sum()\n",
        "count_rep_2weeks"
      ],
      "metadata": {
        "id": "u83DwnXQW3kA"
      },
      "execution_count": null,
      "outputs": []
    },
    {
      "cell_type": "code",
      "source": [
        "# plotting: *All* Tweet counts for Senators *in the first 2 weeks*\n",
        "\n",
        "figx, axes = plt.subplots(1, 1, figsize=(10, 6))\n",
        "axes.plot(count_all_2weeks[\"start\"], count_all_2weeks[\"tweet_count\"], label = \"All\", color = \"green\", linewidth = 5)\n",
        "axes.plot(count_dem_2weeks[\"start\"], count_dem_2weeks[\"tweet_count\"], label = \"Democrats\", color = \"blue\", linewidth = 5)\n",
        "axes.plot(count_rep_2weeks[\"start\"], count_rep_2weeks[\"tweet_count\"], label = \"Republicans\", color = \"red\", linewidth = 5)\n",
        "axes.set_title(\"ALL Tweets from Senators in the first 2 weeks\")\n",
        "axes.legend(frameon=False, fontsize=12)\n",
        "plt.ylabel(\"Count\")\n",
        "axes.set_xticklabels([\"May 26\",\"May 27\",\"May 28\",\"May 29\",\"May 30\",\"May 31\",\"Jun 1\", \n",
        "                      \"Jun 2\", \"Jun 3\", \"Jun 4\", \"Jun 5\", \"Jun 6\", \"Jun 7\", \"Jun 8\"], fontsize=10, rotation = 45)"
      ],
      "metadata": {
        "id": "M1kpxHCEW5uW"
      },
      "execution_count": null,
      "outputs": []
    },
    {
      "cell_type": "code",
      "source": [
        "# saving plot into image file\n",
        "import matplotlib.pyplot as plt\n",
        "plt.savefig('ALL Tweets from Senators in the first 2 weeks.png')"
      ],
      "metadata": {
        "id": "vx7FUWveXAfI"
      },
      "execution_count": null,
      "outputs": []
    },
    {
      "cell_type": "code",
      "source": [
        "# Next, Tweets counts *until Election Day*\n",
        "# (4) *All* Tweet counts for all Senators *until Election Day*\n",
        "\n",
        "accounts = [\"lisamurkowski\", \"SenDanSullivan\", \"SenDougJones\", \"SenShelby\", \"JohnBoozman\", \"SenTomCotton\", \"MarthaMcSallyAZ\", \"SenatorSinema\", \"SenFeinstein\", \"VP\",\n",
        "            \"SenatorBennet\", \"SenCoryGardner\", \"SenBlumenthal\", \"ChrisMurphyCT\", \"SenatorCarper\", \"ChrisCoons\", \"SenRubioPress\", \"SenRickScott\", \"KLoeffler\", \"sendavidperdue\",\n",
        "            \"maziehirono\", \"SenBrianSchatz\", \"SenJoniErnst\", \"ChuckGrassley\", \"MikeCrapo\", \"SenatorRisch\", \"SenDuckworth\", \"SenatorDurbin\", \"SenatorBraun\", \"SenToddYoung\",\n",
        "            \"JerryMoran\", \"SenPatRoberts\", \"LeaderMcConnell\", \"RandPaul\", \"SenBillCassidy\", \"SenJohnKennedy\", \"SenMarkey\", \"SenWarren\", \"SenatorCardin\", \"ChrisVanHollen\",\n",
        "            \"SenatorCollins\", \"SenAngusKing\", \"SenGaryPeters\", \"SenStabenow\", \"amyklobuchar\", \"SenTinaSmith\", \"RoyBlunt\", \"SenHawleyPress\", \"SenHydeSmith\", \"SenatorWicker\",\n",
        "            \"SenatorTester\", \"SteveDaines\", \"SenatorBurr\", \"SenThomTillis\", \"SenKevinCramer\", \"SenJohnHoeven\", \"SenatorFischer\", \"SenSasse\", \"SenatorHassan\", \"SenatorShaheen\",\n",
        "            \"SenBooker\", \"SenatorMenendez\", \"MartinHeinrich\", \"SenatorTomUdall\", \"SenCortezMasto\", \"SenJackyRosen\", \"gillibrandny\", \"SenSchumer\", \"SenSherrodBrown\", \"senrobportman\",\n",
        "            \"JimInhofe\", \"SenatorLankford\", \"SenJeffMerkley\", \"RonWyden\", \"SenBobCasey\", \"SenToomey\", \"SenJackReed\", \"SenWhitehouse\", \"LindseyGrahamSC\", \"SenatorTimScott\",\n",
        "            \"SenatorRounds\", \"SenJohnThune\", \"SenAlexander\", \"MarshaBlackburn\", \"JohnCornyn\", \"SenTedCruz\", \"SenMikeLee\", \"SenatorRomney\", \"timkaine\", \"MarkWarner\",\n",
        "            \"SenatorLeahy\", \"SenSanders\", \"SenatorCantwell\", \"PattyMurray\", \"SenatorBaldwin\", \"SenRonJohnson\", \"SenCapito\", \"Sen_JoeManchin\", \"SenJohnBarrasso\", \"SenatorEnzi\"]\n",
        "start = datetime(2020, 5, 26, 0, 0, 0, 0, tzinfo=timezone.utc)\n",
        "end = datetime(2020, 11, 3, 0, 0, 0, 0, tzinfo=timezone.utc)\n",
        "day_counts = []\n",
        "for account in accounts:\n",
        "  query = f\"from: {account}\"\n",
        "  for c in twarc_client.counts_all(\n",
        "    query, \n",
        "    start_time=start, \n",
        "    end_time=end, \n",
        "    granularity='day'):\n",
        "    \n",
        "    day_counts.extend(c['data'])\n",
        "\n",
        "# saving the JSON to a file\n",
        "with open(\"counts_senators.json\", \"w\") as counts_file:\n",
        "    json_object = json.dumps(day_counts)\n",
        "    counts_file.write(json_object)\n",
        "\n",
        "df4_1 = pd.read_json(\"counts_senators.json\")\n",
        "count_all_fulltime = df4_1.groupby(by=\"start\", as_index = False).sum()\n",
        "count_all_fulltime"
      ],
      "metadata": {
        "id": "nefviN5-X-x1"
      },
      "execution_count": null,
      "outputs": []
    },
    {
      "cell_type": "code",
      "source": [
        "# (5) *All* Tweet counts for Democrats *until Election Day*\n",
        "accounts = [\"SenDougJones\", \"SenatorSinema\", \"SenFeinstein\", \"VP\", \"SenatorBennet\", \"SenBlumenthal\", \"ChrisMurphyCT\", \"SenatorCarper\", \"ChrisCoons\",\n",
        "            \"maziehirono\", \"SenBrianSchatz\", \"SenDuckworth\", \"SenatorDurbin\", \"SenMarkey\", \"SenWarren\", \"SenatorCardin\", \"ChrisVanHollen\",\n",
        "            \"SenGaryPeters\", \"SenStabenow\", \"amyklobuchar\", \"SenTinaSmith\", \"SenatorTester\", \"SenatorHassan\", \"SenatorShaheen\",\n",
        "            \"SenBooker\", \"SenatorMenendez\", \"MartinHeinrich\", \"SenatorTomUdall\", \"SenCortezMasto\", \"SenJackyRosen\", \"gillibrandny\", \"SenSchumer\", \"SenSherrodBrown\",\n",
        "            \"SenJeffMerkley\", \"RonWyden\", \"SenBobCasey\", \"SenJackReed\", \"SenWhitehouse\", \"timkaine\", \"MarkWarner\",\n",
        "            \"SenatorLeahy\", \"SenatorCantwell\", \"PattyMurray\", \"SenatorBaldwin\", \"Sen_JoeManchin\"]\n",
        "start = datetime(2020, 5, 26, 0, 0, 0, 0, tzinfo=timezone.utc)\n",
        "end = datetime(2020, 11, 3, 0, 0, 0, 0, tzinfo=timezone.utc)\n",
        "day_counts = []\n",
        "for account in accounts:\n",
        "  query = f\"from: {account}\"\n",
        "  for c in twarc_client.counts_all(\n",
        "    query, \n",
        "    start_time=start, \n",
        "    end_time=end, \n",
        "    granularity='day'):\n",
        "    \n",
        "    day_counts.extend(c['data'])\n",
        "\n",
        "# saving the JSON to a file\n",
        "with open(\"counts_dems.json\", \"w\") as counts_file:\n",
        "    json_object = json.dumps(day_counts)\n",
        "    counts_file.write(json_object)\n",
        "\n",
        "df5_1 = pd.read_json(\"counts_dems.json\")\n",
        "count_dem_fulltime = df5_1.groupby(by=\"start\", as_index = False).sum()\n",
        "count_dem_fulltime"
      ],
      "metadata": {
        "id": "lf9vPUwfYLsG"
      },
      "execution_count": null,
      "outputs": []
    },
    {
      "cell_type": "code",
      "source": [
        "# *All* Tweet counts for Republicans *until Election Day*\n",
        "accounts = [\"lisamurkowski\", \"SenDanSullivan\", \"SenShelby\", \"JohnBoozman\", \"SenTomCotton\", \"MarthaMcSallyAZ\", \"SenCoryGardner\", \"SenRubioPress\", \"SenRickScott\", \"KLoeffler\", \"sendavidperdue\",\n",
        "            \"SenJoniErnst\", \"ChuckGrassley\", \"MikeCrapo\", \"SenatorRisch\", \"SenatorBraun\", \"SenToddYoung\", \"JerryMoran\", \"SenPatRoberts\", \"LeaderMcConnell\", \"RandPaul\", \"SenBillCassidy\", \"SenJohnKennedy\",\n",
        "            \"SenatorCollins\", \"RoyBlunt\", \"SenHawleyPress\", \"SenHydeSmith\", \"SenatorWicker\", \"SteveDaines\", \"SenatorBurr\", \"SenThomTillis\", \"SenKevinCramer\", \"SenJohnHoeven\", \"SenatorFischer\", \"SenSasse\",\n",
        "            \"senrobportman\", \"JimInhofe\", \"SenatorLankford\", \"SenToomey\", \"LindseyGrahamSC\", \"SenatorTimScott\", \"SenatorRounds\", \"SenJohnThune\", \"SenAlexander\", \"MarshaBlackburn\", \"JohnCornyn\", \"SenTedCruz\", \"SenMikeLee\", \"SenatorRomney\",\n",
        "            \"SenRonJohnson\", \"SenCapito\", \"SenJohnBarrasso\", \"SenatorEnzi\"]\n",
        "start = datetime(2020, 5, 26, 0, 0, 0, 0, tzinfo=timezone.utc)\n",
        "end = datetime(2020, 11, 3, 0, 0, 0, 0, tzinfo=timezone.utc)\n",
        "day_counts = []\n",
        "for account in accounts:\n",
        "  query = f\"from: {account}\"\n",
        "  for c in twarc_client.counts_all(\n",
        "    query, \n",
        "    start_time=start, \n",
        "    end_time=end, \n",
        "    granularity='day'):\n",
        "    \n",
        "    day_counts.extend(c['data'])\n",
        "\n",
        "# saving the JSON to a file\n",
        "with open(\"counts_reps.json\", \"w\") as counts_file:\n",
        "    json_object = json.dumps(day_counts)\n",
        "    counts_file.write(json_object)\n",
        "\n",
        "df6_1 = pd.read_json(\"counts_reps.json\")\n",
        "count_rep_fulltime = df6_1.groupby(by=\"start\", as_index = False).sum()\n",
        "count_rep_fulltime"
      ],
      "metadata": {
        "id": "zjOKXs2XYOwF"
      },
      "execution_count": null,
      "outputs": []
    },
    {
      "cell_type": "code",
      "source": [
        "# plotting: *All* Tweet counts for Senators *until Election Day*\n",
        "\n",
        "figx, axes = plt.subplots(1, 1, figsize=(30, 10))\n",
        "axes.plot(count_all_fulltime[\"start\"], count_all_fulltime[\"tweet_count\"], label = \"All\", color = \"green\", linewidth = 5)\n",
        "axes.plot(count_dem_fulltime[\"start\"], count_dem_fulltime[\"tweet_count\"], label = \"Democrats\", color = \"blue\", linewidth = 5)\n",
        "axes.plot(count_rep_fulltime[\"start\"], count_rep_fulltime[\"tweet_count\"], label = \"Republicans\", color = \"red\", linewidth = 5)\n",
        "axes.set_title(\"ALL Tweets from Senators until Election Day\")\n",
        "axes.legend(frameon=False, fontsize=12)\n",
        "plt.ylabel(\"Count\")\n",
        "axes.set_xticklabels([\"May 25\", \"\"], fontsize=10, rotation = 45)"
      ],
      "metadata": {
        "id": "xzntoTM5YRU7"
      },
      "execution_count": null,
      "outputs": []
    },
    {
      "cell_type": "code",
      "source": [
        "# saving plot into image file\n",
        "# import matplotlib.pyplot as plt\n",
        "plt.savefig('ALL Tweets from Senators until Election Day.png')"
      ],
      "metadata": {
        "id": "Ge7yeHr2YS1K"
      },
      "execution_count": null,
      "outputs": []
    },
    {
      "cell_type": "code",
      "source": [
        "# saving as csv file\n",
        "count_all_2weeks.to_excel('count_all_2weeks.xlsx')\n",
        "count_dem_2weeks.to_excel('count_dem_2weeks.xlsx')\n",
        "count_rep_2weeks.to_excel('count_rep_2weeks.xlsx')\n",
        "count_all_fulltime.to_excel('count_all_fulltime.xlsx')\n",
        "count_dem_fulltime.to_excel('count_dem_fulltime.xlsx')\n",
        "count_rep_fulltime.to_excel('count_rep_fulltime.xlsx')"
      ],
      "metadata": {
        "id": "FYO8zvm6YUQn"
      },
      "execution_count": null,
      "outputs": []
    },
    {
      "cell_type": "markdown",
      "source": [
        "# **2-2. Tweets that mention \"George\" \"Floyd\" \"protest\"**"
      ],
      "metadata": {
        "id": "zXVTKBP0YWeh"
      }
    },
    {
      "cell_type": "code",
      "source": [
        "# First, *George* *Floyd* *protest* Tweet counts *in the first 2 weeks*\n",
        "# (1) *George* *Floyd* *protest* Tweet counts for all Senators *in the first 2 weeks*\n",
        "date = []\n",
        "dt = df1_floyd['created_at'].tolist()\n",
        "for element in dt:\n",
        "  dt2 = datetime.strptime(element, \"%Y-%m-%dT%H:%M:%S.%fZ\")\n",
        "  date.append(dt2.date())\n",
        "\n",
        "df1_floyd['date'] = date\n",
        "count_all_floyd_2weeks = df1_floyd.groupby(by='date', as_index=False).count()\n",
        "count_all_floyd_2weeks = pd.DataFrame(count_all_floyd_2weeks, columns=['date','text'])\n",
        "count_all_floyd_2weeks\n",
        "\n",
        "# (2) *George* *Floyd* *protest* Tweet counts for Democrats *in the first 2 weeks*\n",
        "date = []\n",
        "dt = df2_floyd['created_at'].tolist()\n",
        "for element in dt:\n",
        "  dt2 = datetime.strptime(element, \"%Y-%m-%dT%H:%M:%S.%fZ\")\n",
        "  date.append(dt2.date())\n",
        "\n",
        "df2_floyd['date'] = date\n",
        "count_dem_floyd_2weeks = df2_floyd.groupby(by='date', as_index=False).count()\n",
        "count_dem_floyd_2weeks = pd.DataFrame(count_dem_floyd_2weeks, columns=['date','text'])\n",
        "count_dem_floyd_2weeks\n",
        "\n",
        "# (3) *George* *Floyd* *protest* Tweet counts for Republicans *in the first 2 weeks*\n",
        "date = []\n",
        "dt = df3_floyd['created_at'].tolist()\n",
        "for element in dt:\n",
        "  dt2 = datetime.strptime(element, \"%Y-%m-%dT%H:%M:%S.%fZ\")\n",
        "  date.append(dt2.date())\n",
        "\n",
        "df3_floyd['date'] = date\n",
        "count_rep_floyd_2weeks = df3_floyd.groupby(by='date', as_index=False).count()\n",
        "count_rep_floyd_2weeks = pd.DataFrame(count_rep_floyd_2weeks, columns=['date','text'])\n",
        "count_rep_floyd_2weeks\n",
        "\n",
        "print(count_rep_floyd_2weeks)\n",
        "\n",
        "# plotting: *George* *Floyd* *protest* Tweet counts for Senators *in the first 2 weeks*\n",
        "\n",
        "figx, axes = plt.subplots(1, 1, figsize=(10, 6))\n",
        "axes.plot(count_all_floyd_2weeks[\"date\"], count_all_floyd_2weeks[\"text\"], label = \"All\", color = \"green\", linewidth = 5)\n",
        "axes.plot(count_dem_floyd_2weeks[\"date\"], count_dem_floyd_2weeks[\"text\"], label = \"Democrats\", color = \"blue\", linewidth = 5)\n",
        "axes.plot(count_rep_floyd_2weeks[\"date\"], count_rep_floyd_2weeks[\"text\"], label = \"Republicans\", color = \"red\", linewidth = 5)\n",
        "axes.set_title(\"FLOYD Tweets from Senators in the first 2 weeks\")\n",
        "axes.legend(frameon=False, fontsize=12)\n",
        "plt.ylabel(\"Count\")\n",
        "axes.set_xticklabels([\"May 27\",\"May 29\",\"May 31\",\"Jun 1\",\"Jun 3\",\"Jun 5\",\"Jun 7\"], fontsize=10, rotation = 45)"
      ],
      "metadata": {
        "id": "Z4b44FraYdp9"
      },
      "execution_count": null,
      "outputs": []
    },
    {
      "cell_type": "code",
      "source": [
        "# saving plot into image file\n",
        "# import matplotlib.pyplot as plt\n",
        "plt.savefig('FLOYD Tweets from Senators in the first 2 weeks.png')"
      ],
      "metadata": {
        "id": "7N3LQwH6ZDJS"
      },
      "execution_count": null,
      "outputs": []
    },
    {
      "cell_type": "code",
      "source": [
        "# Next, *George* *Floyd* *protest* Tweet counts *until Election Day*\n",
        "# (4) *George* *Floyd* *protest* Tweet counts for all Senators *until Election Day*\n",
        "date = []\n",
        "dt = df4_floyd['created_at'].tolist()\n",
        "for element in dt:\n",
        "  dt2 = datetime.strptime(element, \"%Y-%m-%dT%H:%M:%S.%fZ\")\n",
        "  date.append(dt2.date())\n",
        "\n",
        "df4_floyd['date'] = date\n",
        "count_all_floyd_fulltime = df4_floyd.groupby(by='date', as_index=False).count()\n",
        "count_all_floyd_fulltime = pd.DataFrame(count_all_floyd_fulltime, columns=['date','text'])\n",
        "count_all_floyd_fulltime\n",
        "\n",
        "# (4) *George* *Floyd* *protest* Tweet counts for Democrats *until Election Day*\n",
        "date = []\n",
        "dt = df5_floyd['created_at'].tolist()\n",
        "for element in dt:\n",
        "  dt2 = datetime.strptime(element, \"%Y-%m-%dT%H:%M:%S.%fZ\")\n",
        "  date.append(dt2.date())\n",
        "\n",
        "df5_floyd['date'] = date\n",
        "count_dem_floyd_fulltime = df5_floyd.groupby(by='date', as_index=False).count()\n",
        "count_dem_floyd_fulltime = pd.DataFrame(count_dem_floyd_fulltime, columns=['date','text'])\n",
        "count_dem_floyd_fulltime\n",
        "\n",
        "# (6) *George* *Floyd* *protest* Tweet counts for Republicans *until Election Day*\n",
        "date = []\n",
        "dt = df6_floyd['created_at'].tolist()\n",
        "for element in dt:\n",
        "  dt2 = datetime.strptime(element, \"%Y-%m-%dT%H:%M:%S.%fZ\")\n",
        "  date.append(dt2.date())\n",
        "\n",
        "df6_floyd['date'] = date\n",
        "count_rep_floyd_fulltime = df6_floyd.groupby(by='date', as_index=False).count()\n",
        "count_rep_floyd_fulltime = pd.DataFrame(count_rep_floyd_fulltime, columns=['date','text'])\n",
        "count_rep_floyd_fulltime\n",
        "\n",
        "# plotting: *George* *Floyd* *protest* Tweet counts for Senators *until Election Day*\n",
        "figx, axes = plt.subplots(1, 1, figsize=(30, 10))\n",
        "axes.plot(count_all_floyd_fulltime[\"date\"], count_all_floyd_fulltime[\"text\"], label = \"All\", color = \"green\", linewidth = 5)\n",
        "axes.plot(count_dem_floyd_fulltime[\"date\"], count_dem_floyd_fulltime[\"text\"], label = \"Democrats\", color = \"blue\", linewidth = 5)\n",
        "axes.plot(count_rep_floyd_fulltime[\"date\"], count_rep_floyd_fulltime[\"text\"], label = \"Republicans\", color = \"red\", linewidth = 5)\n",
        "axes.set_title(\"FLOYD Tweets from Senators until Election Day\")\n",
        "axes.legend(frameon=False, fontsize=12)\n",
        "plt.ylabel(\"Count\")\n",
        "axes.set_xticklabels([\"Jun 2020\",\"Jul 2020\",\"Aug 2020\",\"Sep 2020\",\"Oct 2020\",\"Nov 2020\"], fontsize=10, rotation = 45)"
      ],
      "metadata": {
        "id": "g2BRaXMVZH11"
      },
      "execution_count": null,
      "outputs": []
    },
    {
      "cell_type": "code",
      "source": [
        "# saving plot into image file\n",
        "# import matplotlib.pyplot as plt\n",
        "plt.savefig('FLOYD Tweets from Senators until Election Day.png')"
      ],
      "metadata": {
        "id": "vO--6VtiZVAj"
      },
      "execution_count": null,
      "outputs": []
    },
    {
      "cell_type": "code",
      "source": [
        "# saving as csv file\n",
        "count_all_floyd_2weeks.to_excel('count_all_floyd_2weeks.xlsx')\n",
        "count_dem_floyd_2weeks.to_excel('count_dem_floyd_2weeks.xlsx')\n",
        "count_rep_floyd_2weeks.to_excel('count_rep_floyd_2weeks.xlsx')\n",
        "count_all_floyd_fulltime.to_excel('count_all_floyd_fulltime.xlsx')\n",
        "count_dem_floyd_fulltime.to_excel('count_dem_floyd_fulltime.xlsx')\n",
        "count_rep_floyd_fulltime.to_excel('count_rep_floyd_fulltime.xlsx')"
      ],
      "metadata": {
        "id": "Ob3Qa_aDZWb-"
      },
      "execution_count": null,
      "outputs": []
    },
    {
      "cell_type": "markdown",
      "source": [
        "# **3. Preprocess Tweets & Word Cloud**"
      ],
      "metadata": {
        "id": "4IEA-SBMbN87"
      }
    },
    {
      "cell_type": "code",
      "source": [
        "# removing redundant/unnecessary formats in the Tweets \n",
        "# (e.g., hashtags, mentions, URLs, punctuations, etc.)\n",
        "\n",
        "import warnings\n",
        "warnings.filterwarnings('ignore')\n",
        "# import pandas as pd\n",
        "# import numpy as np\n",
        "# import matplotlib.pyplot as plt\n",
        "import seaborn as sns\n",
        "import nltk\n",
        "from nltk.stem import PorterStemmer,WordNetLemmatizer\n",
        "from wordcloud import WordCloud\n",
        "import re\n",
        "import gensim\n",
        "from sklearn.model_selection import train_test_split\n",
        "from sklearn.feature_extraction.text import CountVectorizer,TfidfVectorizer\n",
        "from sklearn.utils import resample\n",
        "from sklearn.metrics import accuracy_score,f1_score"
      ],
      "metadata": {
        "id": "FiYnVbkrbTKn"
      },
      "execution_count": null,
      "outputs": []
    },
    {
      "cell_type": "code",
      "source": [
        "text1_floyd = df1_floyd['text'].values.tolist()\n",
        "print(len(text1_floyd)) #536\n",
        "text2_floyd = df2_floyd['text'].values.tolist()\n",
        "print(len(text2_floyd)) #360\n",
        "text3_floyd = df3_floyd['text'].values.tolist()\n",
        "print(len(text3_floyd)) #170\n",
        "text4_floyd = df4_floyd['text'].values.tolist()\n",
        "print(len(text4_floyd)) #1227\n",
        "text5_floyd = df5_floyd['text'].values.tolist()\n",
        "print(len(text5_floyd)) #753\n",
        "text6_floyd = df6_floyd['text'].values.tolist()\n",
        "print(len(text6_floyd)) #462"
      ],
      "metadata": {
        "id": "g7oUDymebY9O"
      },
      "execution_count": null,
      "outputs": []
    },
    {
      "cell_type": "code",
      "source": [
        "nltk.download('stopwords')\n",
        "\n",
        "stopword=nltk.corpus.stopwords.words('english')\n",
        "stopword.remove('not')\n",
        "#stopword.append('must')\n",
        "#stopword.append('need')\n",
        "#stopword.append('george')\n",
        "#stopword.append('floyd')\n",
        "#stopword.append('protest')\n",
        "#stopword.append('protests')\n",
        "#stopword.append('americans')\n",
        "new_stopwords = ['must','need','george','floyd','protest','protests','americans']\n",
        "stopword.extend(new_stopwords)\n",
        "for index,text_ in enumerate(text1_floyd):\n",
        "    text_=re.sub(r'@[\\w]*','',text_) #Removing Twitter Handles (@user)\n",
        "    text_=re.sub(r'http\\S+','',text_) #Removing urls from text \n",
        "    text_=re.sub(r'[^A-Za-z#]',' ',text_) #Removing Punctuations, Numbers, and Special Characters\n",
        "    text_=\" \".join(i.lower() for i in text_.split() if i.lower() not in stopword) #Removing stopword\n",
        "    text_=re.sub(r'amp','', text_) # Removing 'amp'\n",
        "    # text_=re.sub('#[A-Za-z0-9_]+','',text_) # Removing hastag (the whole thing)\n",
        "    text1_floyd[index]=text_"
      ],
      "metadata": {
        "id": "8djC2_r8ba2v"
      },
      "execution_count": null,
      "outputs": []
    },
    {
      "cell_type": "code",
      "source": [
        "text1_floyd"
      ],
      "metadata": {
        "id": "Gpa8qtfAbcUb"
      },
      "execution_count": null,
      "outputs": []
    },
    {
      "cell_type": "code",
      "source": [
        "df1_floyd['preprocess_tweet']=text1_floyd[:len(df1_floyd)]\n",
        "df1_floyd['length_tweet']=df1_floyd['preprocess_tweet'].str.len()\n",
        "df1_floyd.head()"
      ],
      "metadata": {
        "id": "0VBVJuyBbhua"
      },
      "execution_count": null,
      "outputs": []
    },
    {
      "cell_type": "code",
      "source": [
        "print(df1_floyd.preprocess_tweet)"
      ],
      "metadata": {
        "id": "e2TS3c3bbqD2"
      },
      "execution_count": null,
      "outputs": []
    },
    {
      "cell_type": "code",
      "source": [
        "# creating one giant string from all tweets (no need to do all the savings to xlsx/txt)\n",
        "text1_floyd_st = \"\".join(df1_floyd.preprocess_tweet.values)\n",
        "text1_floyd_st"
      ],
      "metadata": {
        "id": "H1HqbQTqbtCz"
      },
      "execution_count": null,
      "outputs": []
    },
    {
      "cell_type": "code",
      "source": [
        "print(len(text1_floyd_st)) #73060"
      ],
      "metadata": {
        "id": "Z_F84PSpbuTQ"
      },
      "execution_count": null,
      "outputs": []
    },
    {
      "cell_type": "code",
      "source": [
        "# installing wordcloud modules\n",
        "\n",
        "! pip install wordcloud\n",
        "\n",
        "import os\n",
        "\n",
        "from os import path\n",
        "from wordcloud import WordCloud"
      ],
      "metadata": {
        "id": "K9qVaMlqbweI"
      },
      "execution_count": null,
      "outputs": []
    },
    {
      "cell_type": "code",
      "source": [
        "# (1) generating a word cloud image for Tweets from *all* Senators in *the first 2 weeks*\n",
        "wc_text1_floyd = WordCloud(max_font_size=70, max_words=30, background_color='white').generate(text1_floyd_st)\n",
        "\n",
        "# displaying the generated image\n",
        "# the matplotlib way:\n",
        "# removing x- y-axis measures\n",
        "# import matplotlib.pyplot as plt\n",
        "plt.figure(figsize=(9,7))\n",
        "plt.imshow(wc_text1_floyd, interpolation='bilinear')\n",
        "plt.axis(\"off\")\n",
        "plt.title(\"Word Cloud of FLOYD Tweets from all Senators in the first 2 weeks\")"
      ],
      "metadata": {
        "id": "KEAdxjHQbylK"
      },
      "execution_count": null,
      "outputs": []
    },
    {
      "cell_type": "code",
      "source": [
        "# saving word cloud as image file\n",
        "#import matplotlib.pyplot as plt\n",
        "plt.savefig('Word Cloud of FLOYD Tweets from all Senators in the first 2 weeks.png')"
      ],
      "metadata": {
        "id": "s6W1QzM8b2Sg"
      },
      "execution_count": null,
      "outputs": []
    },
    {
      "cell_type": "code",
      "source": [
        "# (2) generating a word cloud image for Tweets from just the Democrats in *the first 2 weeks*\n",
        "\n",
        "from PIL import Image\n",
        "text2_floyd = df2_floyd['text'].values.tolist()\n",
        "for index,text_ in enumerate(text2_floyd):\n",
        "    text_=re.sub(r'@[\\w]*','',text_) #Removing Twitter Handles (@user)\n",
        "    text_=re.sub(r'http\\S+','',text_) #Removing urls from text \n",
        "    text_=re.sub(r'[^A-Za-z#]',' ',text_) #Removing Punctuations, Numbers, and Special Characters\n",
        "    text_=\" \".join(i.lower() for i in text_.split() if i.lower() not in stopword) #Removing stopword\n",
        "    text_=re.sub(r'amp','', text_) # Removing 'amp'\n",
        "    # text_=re.sub('#[A-Za-z0-9_]+','',text_) # Removing hastag (the whole thing)\n",
        "    text2_floyd[index]=text_\n",
        "\n",
        "df2_floyd['preprocess_tweet']=text2_floyd[:len(df2_floyd)]\n",
        "df2_floyd['length_tweet']=df2_floyd['preprocess_tweet'].str.len()\n",
        "\n",
        "text2_floyd_st = \"\".join(df2_floyd.preprocess_tweet.values)\n",
        "\n",
        "# import the desired colormap from matplotlib\n",
        "cmap = mpl.cm.Blues(np.linspace(0,1,20))\n",
        "# the darker part of the matrix is selected for readability\n",
        "cmap = mpl.colors.ListedColormap(cmap[-10:,:-1]) \n",
        "\n",
        "#remove_tags_mentions(text2)\n",
        "mask = np.array(Image.open(\"democrat.jpg\"))\n",
        "wc_text2_floyd = WordCloud(max_words=30, background_color='white', mask=mask, contour_color='#CCD5E3',contour_width=0.1, colormap=cmap).generate(text2_floyd_st)\n",
        "plt.figure(figsize=(9,7))\n",
        "plt.imshow(wc_text2_floyd, interpolation='bilinear')\n",
        "plt.axis(\"off\")\n",
        "plt.title(\"Word Cloud of FLOYD Tweets from Democratic Senators in the first 2 weeks\")"
      ],
      "metadata": {
        "id": "f2FpqKCfb7DN"
      },
      "execution_count": null,
      "outputs": []
    },
    {
      "cell_type": "code",
      "source": [
        "# saving word cloud as image file\n",
        "#import matplotlib.pyplot as plt\n",
        "plt.savefig('Word Cloud of FLOYD Tweets from Democratic Senators in the first 2 weeks.png')"
      ],
      "metadata": {
        "id": "faIDxkCPcAEe"
      },
      "execution_count": null,
      "outputs": []
    },
    {
      "cell_type": "code",
      "source": [
        "# (3) generating a word cloud image for Tweets from just the Republicans in *the first 2 weeks*\n",
        "\n",
        "text3_floyd = df3_floyd['text'].values.tolist()\n",
        "\n",
        "for index,text_ in enumerate(text3_floyd):\n",
        "    text_=re.sub(r'@[\\w]*','',text_) #Removing Twitter Handles (@user)\n",
        "    text_=re.sub(r'http\\S+','',text_) #Removing urls from text \n",
        "    text_=re.sub(r'[^A-Za-z#]',' ',text_) #Removing Punctuations, Numbers, and Special Characters\n",
        "    text_=\" \".join(i.lower() for i in text_.split() if i.lower() not in stopword) #Removing stopword\n",
        "    text_=re.sub(r'amp','', text_) # Removing 'amp'\n",
        "    # text_=re.sub('#[A-Za-z0-9_]+','',text_) # Removing hastag (the whole thing)\n",
        "    text3_floyd[index]=text_\n",
        "\n",
        "df3_floyd['preprocess_tweet']=text3_floyd[:len(df3_floyd)]\n",
        "df3_floyd['length_tweet']=df3_floyd['preprocess_tweet'].str.len()\n",
        "\n",
        "text3_floyd_st = \"\".join(df3_floyd.preprocess_tweet.values)\n",
        "\n",
        "# import the desired colormap from matplotlib\n",
        "cmap = mpl.cm.Reds(np.linspace(0,1,20))\n",
        "# the darker part of the matrix is selected for readability\n",
        "cmap = mpl.colors.ListedColormap(cmap[-10:,:-1]) \n",
        "\n",
        "#remove_tags_mentions(text3)\n",
        "mask = np.array(Image.open(\"republican.jpg\"))\n",
        "wc_text3_floyd = WordCloud(max_words=30, background_color='white', mask=mask, contour_color='#eacecd',contour_width=0.2, colormap=cmap).generate(text3_floyd_st)\n",
        "plt.figure(figsize=(9,7))\n",
        "plt.imshow(wc_text3_floyd, interpolation='bilinear')\n",
        "plt.axis(\"off\")\n",
        "plt.title(\"Word Cloud of FLOYD Tweets from Republican Senators in the first 2 weeks\")"
      ],
      "metadata": {
        "id": "jNi8ao-McBjs"
      },
      "execution_count": null,
      "outputs": []
    },
    {
      "cell_type": "code",
      "source": [
        "# saving word cloud as image file\n",
        "#import matplotlib.pyplot as plt\n",
        "plt.savefig('Word Cloud of FLOYD Tweets from Republican Senators in the first 2 weeks.png')"
      ],
      "metadata": {
        "id": "lfZarEAycWFS"
      },
      "execution_count": null,
      "outputs": []
    },
    {
      "cell_type": "code",
      "source": [
        "# Next, extending the period to *until Election Day* (\"full time\")\n",
        "# (4) generating a word cloud image for Tweets from *all* Senators in *until Election Day*\n",
        "\n",
        "text4_floyd = df4_floyd['text'].values.tolist()\n",
        "\n",
        "for index,text_ in enumerate(text4_floyd):\n",
        "    text_=re.sub(r'@[\\w]*','',text_) #Removing Twitter Handles (@user)\n",
        "    text_=re.sub(r'http\\S+','',text_) #Removing urls from text \n",
        "    text_=re.sub(r'[^A-Za-z#]',' ',text_) #Removing Punctuations, Numbers, and Special Characters\n",
        "    text_=\" \".join(i.lower() for i in text_.split() if i.lower() not in stopword) #Removing stopword\n",
        "    text_=re.sub(r'amp','', text_) # Removing 'amp'\n",
        "    # text_=re.sub('#[A-Za-z0-9_]+','',text_) # Removing hastag (the whole thing)\n",
        "    text4_floyd[index]=text_\n",
        "\n",
        "df4_floyd['preprocess_tweet']=text4_floyd[:len(df4_floyd)]\n",
        "df4_floyd['length_tweet']=df4_floyd['preprocess_tweet'].str.len()\n",
        "\n",
        "text4_floyd_st = \"\".join(df4_floyd.preprocess_tweet.values)\n",
        "\n",
        "# generating a word cloud image for Tweets from *all* Senators \"until Election Day\"\n",
        "wc_text4_floyd = WordCloud(max_font_size=70, max_words=30, background_color='white').generate(text4_floyd_st)\n",
        "\n",
        "# displaying the generated image\n",
        "# the matplotlib way:\n",
        "# removing x- y-axis measures\n",
        "# import matplotlib.pyplot as plt\n",
        "plt.figure(figsize=(9,7))\n",
        "plt.imshow(wc_text4_floyd, interpolation='bilinear')\n",
        "plt.axis(\"off\")\n",
        "plt.title(\"Word Cloud of FLOYD Tweets from all Senators until Election Day\")"
      ],
      "metadata": {
        "id": "aqOEt7utcZak"
      },
      "execution_count": null,
      "outputs": []
    },
    {
      "cell_type": "code",
      "source": [
        "# saving word cloud as image file\n",
        "#import matplotlib.pyplot as plt\n",
        "plt.savefig('Word Cloud of FLOYD Tweets from all Senators until Election Day.png')"
      ],
      "metadata": {
        "id": "ZVQ51KM2cl7y"
      },
      "execution_count": null,
      "outputs": []
    },
    {
      "cell_type": "code",
      "source": [
        "# (5) generating a word cloud image for Tweets from just the Democrats *until Election Day*\n",
        "\n",
        "from PIL import Image\n",
        "text5_floyd = df5_floyd['text'].values.tolist()\n",
        "for index,text_ in enumerate(text5_floyd):\n",
        "    text_=re.sub(r'@[\\w]*','',text_) #Removing Twitter Handles (@user)\n",
        "    text_=re.sub(r'http\\S+','',text_) #Removing urls from text \n",
        "    text_=re.sub(r'[^A-Za-z#]',' ',text_) #Removing Punctuations, Numbers, and Special Characters\n",
        "    text_=\" \".join(i.lower() for i in text_.split() if i.lower() not in stopword) #Removing stopword\n",
        "    text_=re.sub(r'amp','', text_) # Removing 'amp'\n",
        "    # text_=re.sub('#[A-Za-z0-9_]+','',text_) # Removing hastag (the whole thing)\n",
        "    text5_floyd[index]=text_\n",
        "\n",
        "df5_floyd['preprocess_tweet']=text5_floyd[:len(df5_floyd)]\n",
        "df5_floyd['length_tweet']=df5_floyd['preprocess_tweet'].str.len()\n",
        "\n",
        "text5_floyd_st = \"\".join(df5_floyd.preprocess_tweet.values)\n",
        "\n",
        "# import the desired colormap from matplotlib\n",
        "cmap = mpl.cm.Blues(np.linspace(0,1,20))\n",
        "# the darker part of the matrix is selected for readability\n",
        "cmap = mpl.colors.ListedColormap(cmap[-10:,:-1]) \n",
        "\n",
        "#remove_tags_mentions(text2)\n",
        "mask = np.array(Image.open(\"democrat.jpg\"))\n",
        "wc_text5_floyd = WordCloud(max_words=30, background_color='white', mask=mask, contour_color='#CCD5E3',contour_width=0.1, colormap=cmap).generate(text5_floyd_st)\n",
        "plt.figure(figsize=(9,7))\n",
        "plt.imshow(wc_text5_floyd, interpolation='bilinear')\n",
        "plt.axis(\"off\")\n",
        "plt.title(\"Word Cloud of FLOYD Tweets from Democratic Senators until Election Day\")"
      ],
      "metadata": {
        "id": "eZiweEPlcx1d"
      },
      "execution_count": null,
      "outputs": []
    },
    {
      "cell_type": "code",
      "source": [
        "# saving word cloud as image file\n",
        "#import matplotlib.pyplot as plt\n",
        "plt.savefig('Word Cloud of FLOYD Tweets from Democratic Senators until Election Day.png')"
      ],
      "metadata": {
        "id": "-ekLAqBodCHt"
      },
      "execution_count": null,
      "outputs": []
    },
    {
      "cell_type": "code",
      "source": [
        "# (6) generating a word cloud image for Tweets from just the Republicans *until Election Day*\n",
        "\n",
        "text6_floyd = df6_floyd['text'].values.tolist()\n",
        "\n",
        "for index,text_ in enumerate(text6_floyd):\n",
        "    text_=re.sub(r'@[\\w]*','',text_) #Removing Twitter Handles (@user)\n",
        "    text_=re.sub(r'http\\S+','',text_) #Removing urls from text \n",
        "    text_=re.sub(r'[^A-Za-z#]',' ',text_) #Removing Punctuations, Numbers, and Special Characters\n",
        "    text_=\" \".join(i.lower() for i in text_.split() if i.lower() not in stopword) #Removing stopword\n",
        "    text_=re.sub(r'amp','', text_) # Removing 'amp'\n",
        "    # text_=re.sub('#[A-Za-z0-9_]+','',text_) # Removing hastag (the whole thing)\n",
        "    text6_floyd[index]=text_\n",
        "\n",
        "df6_floyd['preprocess_tweet']=text6_floyd[:len(df6_floyd)]\n",
        "df6_floyd['length_tweet']=df6_floyd['preprocess_tweet'].str.len()\n",
        "\n",
        "text6_floyd_st = \"\".join(df6_floyd.preprocess_tweet.values)\n",
        "\n",
        "# import the desired colormap from matplotlib\n",
        "cmap = mpl.cm.Reds(np.linspace(0,1,20))\n",
        "# the darker part of the matrix is selected for readability\n",
        "cmap = mpl.colors.ListedColormap(cmap[-10:,:-1]) \n",
        "\n",
        "#remove_tags_mentions(text3)\n",
        "mask = np.array(Image.open(\"republican.jpg\"))\n",
        "wc_text6_floyd = WordCloud(max_words=30, background_color='white', mask=mask, contour_color='#eacecd',contour_width=0.2, colormap=cmap).generate(text6_floyd_st)\n",
        "plt.figure(figsize=(9,7))\n",
        "plt.imshow(wc_text6_floyd, interpolation='bilinear')\n",
        "plt.axis(\"off\")\n",
        "plt.title(\"Word Cloud of FLOYD Tweets from Republican Senators until Election Day\")"
      ],
      "metadata": {
        "id": "eOhhSaZhc_5R"
      },
      "execution_count": null,
      "outputs": []
    },
    {
      "cell_type": "code",
      "source": [
        "# saving word cloud as image file\n",
        "#import matplotlib.pyplot as plt\n",
        "plt.savefig('Word Cloud of FLOYD Tweets from Republican Senators until Election Day.png')"
      ],
      "metadata": {
        "id": "vBIQ1ULtdMHB"
      },
      "execution_count": null,
      "outputs": []
    },
    {
      "cell_type": "markdown",
      "source": [
        "#**4. Sentiment Analysis** \n",
        "#**4-1. Using TextBlob**"
      ],
      "metadata": {
        "id": "mpVnFNj8dYw-"
      }
    },
    {
      "cell_type": "code",
      "source": [
        "# before start, adding a column \"party\" into existing datasets\n",
        "df2_floyd['Party'] = \"D\"\n",
        "df3_floyd['Party'] = \"R\"\n",
        "df5_floyd['Party'] = \"D\"\n",
        "df6_floyd['Party'] = \"R\"\n",
        "\n",
        "df2_floyd # 360 rows\n",
        "df3_floyd # 170 rows\n",
        "df5_floyd # 753 rows\n",
        "df6_floyd # 462 rows"
      ],
      "metadata": {
        "id": "CDlnDov1dkIu"
      },
      "execution_count": null,
      "outputs": []
    },
    {
      "cell_type": "code",
      "source": [
        "# merging the two dataframes into one\n",
        "df1_floyd_merged = pd.concat([df2_floyd, df3_floyd])\n",
        "df1_floyd_merged # 530 rows\n",
        "df4_floyd_merged = pd.concat([df5_floyd, df6_floyd])\n",
        "df4_floyd_merged # 1215 rows"
      ],
      "metadata": {
        "id": "pFKuxa-TdrvN"
      },
      "execution_count": null,
      "outputs": []
    },
    {
      "cell_type": "code",
      "source": [
        "# installing sentiment analysis modules\n",
        "! pip install -U textblob\n",
        "! python -m textblob.download_corpora\n",
        "from textblob import TextBlob"
      ],
      "metadata": {
        "id": "rQkhMEC4du57"
      },
      "execution_count": null,
      "outputs": []
    },
    {
      "cell_type": "code",
      "source": [
        "# creating new dataframes of Tweets with stopwords, etc. included\n",
        "text1_floyd_raw = df1_floyd_merged['text'].values.tolist()\n",
        "print(len(text1_floyd_raw)) #530\n",
        "text2_floyd_raw = df2_floyd['text'].values.tolist()\n",
        "print(len(text2_floyd_raw)) #360\n",
        "text3_floyd_raw = df3_floyd['text'].values.tolist()\n",
        "print(len(text3_floyd_raw)) #170\n",
        "text4_floyd_raw = df4_floyd_merged['text'].values.tolist()\n",
        "print(len(text4_floyd_raw)) #1215\n",
        "text5_floyd_raw = df5_floyd['text'].values.tolist()\n",
        "print(len(text5_floyd_raw)) #753\n",
        "text6_floyd_raw = df6_floyd['text'].values.tolist()\n",
        "print(len(text6_floyd_raw)) #462"
      ],
      "metadata": {
        "id": "hSfyVG2Odw29"
      },
      "execution_count": null,
      "outputs": []
    },
    {
      "cell_type": "code",
      "source": [
        "# not removing stopwords\n",
        "for index,text_ in enumerate(text1_floyd_raw):\n",
        "    text_=re.sub(r'@[\\w]*','',text_) #Removing Twitter Handles (@user)\n",
        "    text_=re.sub(r'http\\S+','',text_) #Removing urls from text \n",
        "    text_=re.sub(r'[^A-Za-z#]',' ',text_) #Removing Punctuations, Numbers, and Special Characters\n",
        "    # text_=\" \".join(i.lower() for i in text_.split() if i.lower() not in stopword) #Removing stopword\n",
        "    text_=re.sub(r'amp','', text_) # Removing 'amp'\n",
        "    # text_=re.sub('#[A-Za-z0-9_]+','',text_) # Removing hastag (the whole thing)\n",
        "    text1_floyd_raw[index]=text_"
      ],
      "metadata": {
        "id": "3xLSB3ptdy7j"
      },
      "execution_count": null,
      "outputs": []
    },
    {
      "cell_type": "code",
      "source": [
        "# computing polarity and subjectivity\n",
        "sent_text1_floyd = []\n",
        "for element in text1_floyd_raw:\n",
        "  tb = TextBlob(element)\n",
        "  sent_text1_floyd.append(tb.sentiment)\n",
        "\n",
        "sent_text1_floyd = pd.DataFrame(sent_text1_floyd)\n",
        "print(sent_text1_floyd)"
      ],
      "metadata": {
        "id": "upxtbxWEd0-z"
      },
      "execution_count": null,
      "outputs": []
    },
    {
      "cell_type": "code",
      "source": [
        "# adding to existing dataset\n",
        "sent_text1_floyd_polarity = sent_text1_floyd.polarity.values.tolist()\n",
        "df1_floyd_merged[\"polarity\"] = sent_text1_floyd_polarity\n",
        "\n",
        "sent_text1_floyd_subjectivity = sent_text1_floyd.subjectivity.values.tolist()\n",
        "df1_floyd_merged[\"subjectivity\"] = sent_text1_floyd_subjectivity\n",
        "df1_floyd_merged"
      ],
      "metadata": {
        "id": "wWkK8t11d2_L"
      },
      "execution_count": null,
      "outputs": []
    },
    {
      "cell_type": "code",
      "source": [
        "from datetime import datetime\n",
        "date = []\n",
        "sent_dt = df1_floyd_merged['created_at'].tolist()\n",
        "for element in sent_dt:\n",
        "  sent_dt2 = datetime.strptime(element, \"%Y-%m-%dT%H:%M:%S.%fZ\")\n",
        "  date.append(sent_dt2.date())\n",
        "\n",
        "df1_floyd_merged['date'] = date\n",
        "mean_all_floyd_2weeks = df1_floyd_merged.groupby(by='date', as_index=False)['polarity'].mean()\n",
        "mean_all_floyd_2weeks"
      ],
      "metadata": {
        "id": "Ov6Nih33d4vd"
      },
      "execution_count": null,
      "outputs": []
    },
    {
      "cell_type": "code",
      "source": [
        "mean_byparty_2weeks = df1_floyd_merged.groupby(by=['date','Party'], as_index=False)['polarity'].mean()\n",
        "mean_byparty_2weeks"
      ],
      "metadata": {
        "id": "j5o5q8STd6bN"
      },
      "execution_count": null,
      "outputs": []
    },
    {
      "cell_type": "code",
      "source": [
        "# plotting: *Floyd* Tweet counts for Senators *in the first 2 weeks*\n",
        "dem1 = mean_byparty_2weeks[mean_byparty_2weeks[\"Party\"] == \"D\"]\n",
        "rep1 = mean_byparty_2weeks[mean_byparty_2weeks[\"Party\"] == \"R\"]\n",
        "# import matplotlib.pyplot as plt\n",
        "figx, axes = plt.subplots(1, 1, figsize=(10, 6))\n",
        "axes.plot(dem1[\"date\"], dem1[\"polarity\"].rolling(3).mean(), label = \"Democrats\", color = \"blue\", linewidth = 2.5)\n",
        "axes.plot(rep1[\"date\"], rep1[\"polarity\"].rolling(3).mean(), label = \"Republicans\", color = \"red\", linewidth = 2.5)\n",
        "axes.set_title(\"FLOYD Tweets from Senators in the first 2 weeks\")\n",
        "axes.legend(frameon=False, fontsize=12)\n",
        "plt.ylabel(\"Polarity\", fontsize=15)\n",
        "axes.set_xticklabels([\"May 27\",\"May 29\",\"May 31\",\"Jun 1\",\"Jun 3\",\"Jun 5\",\"Jun 7\"], fontsize=12, rotation = 45)"
      ],
      "metadata": {
        "id": "Ro_z67Jud8GF"
      },
      "execution_count": null,
      "outputs": []
    },
    {
      "cell_type": "code",
      "source": [
        "# saving plot into image file\n",
        "# import matplotlib.pyplot as plt\n",
        "plt.savefig('Polarity of FLOYD Tweets from Senators in the first 2 weeks.png')"
      ],
      "metadata": {
        "id": "6kd3vgVZeAA8"
      },
      "execution_count": null,
      "outputs": []
    },
    {
      "cell_type": "code",
      "source": [
        "# plotting FLOYD Tweets from Senators *until Election Day*\n",
        "\n",
        "# not removing stopwords\n",
        "for index,text_ in enumerate(text4_floyd_raw):\n",
        "    text_=re.sub(r'@[\\w]*','',text_) #Removing Twitter Handles (@user)\n",
        "    text_=re.sub(r'http\\S+','',text_) #Removing urls from text \n",
        "    text_=re.sub(r'[^A-Za-z#]',' ',text_) #Removing Punctuations, Numbers, and Special Characters\n",
        "    # text_=\" \".join(i.lower() for i in text_.split() if i.lower() not in stopword) #Removing stopword\n",
        "    text_=re.sub(r'amp','', text_) # Removing 'amp'\n",
        "    # text_=re.sub('#[A-Za-z0-9_]+','',text_) # Removing hastag (the whole thing)\n",
        "    text4_floyd_raw[index]=text_\n",
        "\n",
        "# computing polarity and subjectivity\n",
        "sent_text4_floyd = []\n",
        "for element in text4_floyd_raw:\n",
        "  tb = TextBlob(element)\n",
        "  sent_text4_floyd.append(tb.sentiment)\n",
        "\n",
        "sent_text4_floyd = pd.DataFrame(sent_text4_floyd)\n",
        "print(sent_text4_floyd)\n",
        "\n",
        "# adding to existing dataset\n",
        "sent_text4_floyd_polarity = sent_text4_floyd.polarity.values.tolist()\n",
        "df4_floyd_merged[\"polarity\"] = sent_text4_floyd_polarity\n",
        "\n",
        "sent_text4_floyd_subjectivity = sent_text4_floyd.subjectivity.values.tolist()\n",
        "df4_floyd_merged[\"subjectivity\"] = sent_text4_floyd_subjectivity\n",
        "print(df4_floyd_merged)\n",
        "\n",
        "from datetime import datetime\n",
        "date = []\n",
        "sent_dt3 = df4_floyd_merged['created_at'].tolist()\n",
        "for element in sent_dt3:\n",
        "  sent_dt4 = datetime.strptime(element, \"%Y-%m-%dT%H:%M:%S.%fZ\")\n",
        "  date.append(sent_dt4.date())\n",
        "\n",
        "df4_floyd_merged['date'] = date\n",
        "mean_all_floyd_fulltime = df4_floyd_merged.groupby(by='date', as_index=False)['polarity'].mean()\n",
        "print(mean_all_floyd_fulltime)\n",
        "\n",
        "mean_byparty_fulltime = df4_floyd_merged.groupby(by=['date','Party'], as_index=False)['polarity'].mean()\n",
        "print(mean_byparty_fulltime)\n",
        "\n",
        "# plotting: *Floyd* Tweet Counts for Senators *until Election Day*\n",
        "dem4 = mean_byparty_fulltime[mean_byparty_fulltime[\"Party\"] == \"D\"]\n",
        "rep4 = mean_byparty_fulltime[mean_byparty_fulltime[\"Party\"] == \"R\"]\n",
        "# import matplotlib.pyplot as plt\n",
        "figx, axes = plt.subplots(1, 1, figsize=(30, 10))\n",
        "axes.plot(dem4[\"date\"], dem4[\"polarity\"].rolling(3).mean(), label = \"Democrats\", color = \"blue\", linewidth = 2.5)\n",
        "axes.plot(rep4[\"date\"], rep4[\"polarity\"].rolling(3).mean(), label = \"Republicans\", color = \"red\", linewidth = 2.5)\n",
        "axes.set_title(\"FLOYD Tweets from Senators until Election Day\")\n",
        "axes.legend(frameon=False, fontsize=12)\n",
        "plt.ylabel(\"Polarity\", fontsize=15)\n",
        "axes.set_xticklabels([\"Jun 2020\",\"Jul 2020\",\"Aug 2020\",\"Sep 2020\",\"Oct 2020\",\"Nov 2020\"], fontsize=12, rotation = 45)"
      ],
      "metadata": {
        "id": "O927ZHTseCrp"
      },
      "execution_count": null,
      "outputs": []
    },
    {
      "cell_type": "code",
      "source": [
        "# saving plot into image file\n",
        "# import matplotlib.pyplot as plt\n",
        "plt.savefig('Polarity of FLOYD Tweets from Senators until Election Day.png')"
      ],
      "metadata": {
        "id": "ov5-CKineMLX"
      },
      "execution_count": null,
      "outputs": []
    },
    {
      "cell_type": "code",
      "source": [
        "# saving new dataframes as csv file\n",
        "df1_floyd_merged.to_excel('all_floyd_2weeks_merged.xlsx')\n",
        "df4_floyd_merged.to_excel('all_floyd_fulltime_merged.xlsx')"
      ],
      "metadata": {
        "id": "XSCzkQt_ePQR"
      },
      "execution_count": null,
      "outputs": []
    },
    {
      "cell_type": "markdown",
      "source": [
        "# **4-2. Using VADER**"
      ],
      "metadata": {
        "id": "PpyrBPeCeRng"
      }
    },
    {
      "cell_type": "code",
      "source": [
        "# installing\n",
        "nltk.download('vader_lexicon')\n",
        "from nltk.sentiment.vader import SentimentIntensityAnalyzer\n",
        "sentiment = SentimentIntensityAnalyzer()"
      ],
      "metadata": {
        "id": "dmNCnU5ZeVQa"
      },
      "execution_count": null,
      "outputs": []
    },
    {
      "cell_type": "code",
      "source": [
        "# text1_floyd_raw = df1_floyd_merged['text'].values.tolist()\n",
        "print(len(text1_floyd_raw))\n",
        "print(len(text4_floyd_raw))"
      ],
      "metadata": {
        "id": "2o1ac-0XeX39"
      },
      "execution_count": null,
      "outputs": []
    },
    {
      "cell_type": "code",
      "source": [
        "vader_text1_floyd = []\n",
        "for element in text1_floyd_raw:\n",
        "  vd = sentiment.polarity_scores(element)\n",
        "  vader_text1_floyd.append(vd)\n",
        "\n",
        "vader_text1_floyd = pd.DataFrame(vader_text1_floyd)\n",
        "print(vader_text1_floyd)"
      ],
      "metadata": {
        "id": "5lJ-Kyv5ebdu"
      },
      "execution_count": null,
      "outputs": []
    },
    {
      "cell_type": "code",
      "source": [
        "# adding to existing dataset\n",
        "vader_text1_floyd_negative = vader_text1_floyd.neg.values.tolist()\n",
        "df1_floyd_merged[\"negative\"] = vader_text1_floyd_negative\n",
        "vader_text1_floyd_neutral = vader_text1_floyd.neu.values.tolist()\n",
        "df1_floyd_merged[\"neutral\"] = vader_text1_floyd_neutral\n",
        "vader_text1_floyd_positive = vader_text1_floyd.pos.values.tolist()\n",
        "df1_floyd_merged[\"positive\"] = vader_text1_floyd_positive\n",
        "df1_floyd_merged # FLOYD Tweets of all Senators for the first 2 weeks"
      ],
      "metadata": {
        "id": "0psHmQ5KedRj"
      },
      "execution_count": null,
      "outputs": []
    },
    {
      "cell_type": "code",
      "source": [
        "def categorise(row):  \n",
        "    if row['positive'] > row['negative']:\n",
        "        return 'positive'\n",
        "    elif row['positive'] < row['negative']:\n",
        "        return 'negative'\n",
        "    return 'neutral'\n",
        "\n",
        "df1_floyd_merged['VADERclass'] = df1_floyd_merged.apply(lambda row: categorise(row), axis=1)"
      ],
      "metadata": {
        "id": "hzBHtV8refMj"
      },
      "execution_count": null,
      "outputs": []
    },
    {
      "cell_type": "code",
      "source": [
        "count_VADER_df1_floyd_merged = df1_floyd_merged.groupby(by=['date','Party', 'VADERclass'], as_index=False)['text'].count()\n",
        "print(count_VADER_df1_floyd_merged)"
      ],
      "metadata": {
        "id": "2ZJiSINmeguZ"
      },
      "execution_count": null,
      "outputs": []
    },
    {
      "cell_type": "code",
      "source": [
        "# plotting: *Floyd* Tweet Counts for Senators *in the first 2 weeks*\n",
        "dem_pos1 = count_VADER_df1_floyd_merged[(count_VADER_df1_floyd_merged[\"Party\"] == \"D\") & (count_VADER_df1_floyd_merged['VADERclass'] == \"positive\")]\n",
        "rep_pos1 = count_VADER_df1_floyd_merged[(count_VADER_df1_floyd_merged[\"Party\"] == \"R\") & (count_VADER_df1_floyd_merged['VADERclass'] == \"positive\")]\n",
        "dem_neg1 = count_VADER_df1_floyd_merged[(count_VADER_df1_floyd_merged[\"Party\"] == \"D\") & (count_VADER_df1_floyd_merged['VADERclass'] == \"negative\")]\n",
        "rep_neg1 = count_VADER_df1_floyd_merged[(count_VADER_df1_floyd_merged[\"Party\"] == \"R\") & (count_VADER_df1_floyd_merged['VADERclass'] == \"negative\")]\n",
        "#import matplotlib.pyplot as plt\n",
        "figx, axes = plt.subplots(2, 1, figsize=(10, 6))\n",
        "axes[0].plot(dem_pos1[\"date\"], dem_pos1[\"text\"], label = \"Democrats\", color = \"blue\", linewidth = 2.5)\n",
        "axes[0].plot(rep_pos1[\"date\"], rep_pos1[\"text\"], label = \"Republicans\", color = \"red\", linewidth = 2.5)\n",
        "axes[0].legend(frameon=False, fontsize=12)\n",
        "axes[0].set_title(\"Number of FLOYD Positive Tweets in the first 2 weeks by Party\", fontsize=15)\n",
        "axes[0].set_ylabel(\"Count\", fontsize=12)\n",
        "axes[0].set_xticks([])\n",
        "\n",
        "axes[1].plot(dem_neg1[\"date\"], dem_neg1[\"text\"], label = \"Democrats\", color = \"blue\", linewidth = 2.5)\n",
        "axes[1].plot(rep_neg1[\"date\"], rep_neg1[\"text\"], label = \"Republicans\", color = \"red\", linewidth = 2.5)\n",
        "axes[1].legend(frameon=False, fontsize=12)\n",
        "axes[1].set_title(\"Number of FLOYD Negative Tweets in the first 2 weeks by Party\", fontsize=15)\n",
        "axes[1].set_ylabel(\"Count\", fontsize=11)\n",
        "axes[1].set_xticklabels([\"May 27\",\"May 29\",\"May 31\",\"Jun 1\",\"Jun 3\",\"Jun 5\",\"Jun 7\"], fontsize=12, rotation = 45)"
      ],
      "metadata": {
        "id": "Z7hACsqveiiH"
      },
      "execution_count": null,
      "outputs": []
    },
    {
      "cell_type": "code",
      "source": [
        "# saving plot into image file\n",
        "# import matplotlib.pyplot as plt\n",
        "plt.savefig('Number of FLOYD Positive and Negative Tweets in the first 2 weeks by Party.png')"
      ],
      "metadata": {
        "id": "NwBFiWIiekvT"
      },
      "execution_count": null,
      "outputs": []
    },
    {
      "cell_type": "code",
      "source": [
        "# comuting ratios of positive to negative Tweets: Dem vs. Rep\n",
        "dem_ratio1 = dem_pos1.merge(dem_neg1, on = 'date')\n",
        "dem_ratio1['ratio'] = dem_ratio1['text_x']/dem_ratio1['text_y']\n",
        "rep_ratio1 = rep_pos1.merge(rep_neg1, on = 'date')\n",
        "rep_ratio1['ratio'] = rep_ratio1['text_x']/rep_ratio1['text_y']"
      ],
      "metadata": {
        "id": "tO9C1pvjemMV"
      },
      "execution_count": null,
      "outputs": []
    },
    {
      "cell_type": "code",
      "source": [
        "# making a plot of the ratios\n",
        "figx, axes = plt.subplots(1, 1, figsize=(10, 6))\n",
        "axes.plot(dem_ratio1[\"date\"], dem_ratio1[\"ratio\"].rolling(3).mean(), label = \"Democrats\", color = \"blue\", linewidth = 2.5)\n",
        "axes.plot(rep_ratio1[\"date\"], rep_ratio1[\"ratio\"].rolling(3).mean(), label = \"Republicans\", color = \"red\", linewidth = 2.5)\n",
        "axes.legend(frameon=False, fontsize=12)\n",
        "axes.set_title(\"Ratio of FLOYD Positive Tweets to Negative Tweets in the first 2 weeks by Party\", fontsize=20)\n",
        "axes.set_ylabel(\"Ratio\", fontsize=14)\n",
        "axes.set_xticklabels([\"May 29\",\"May 31\",\"Jun 1\",\"Jun 3\",\"Jun 5\",\"Jun 7\"], fontsize=12, rotation = 45)"
      ],
      "metadata": {
        "id": "Hu3Y14bgeniX"
      },
      "execution_count": null,
      "outputs": []
    },
    {
      "cell_type": "code",
      "source": [
        "# saving plot into image file\n",
        "# import matplotlib.pyplot as plt\n",
        "plt.savefig('Ratio of FLOYD Positive to Negative Tweets in the first 2 weeks by Party.png')"
      ],
      "metadata": {
        "id": "AL3mhfUoepKB"
      },
      "execution_count": null,
      "outputs": []
    },
    {
      "cell_type": "code",
      "source": [
        "# Next, creating a plot of number of FLOYD positive and negative Tweets *until Election Day* by party\n",
        "print(len(text4_floyd_raw))\n",
        "\n",
        "vader_text4_floyd = []\n",
        "for element in text4_floyd_raw:\n",
        "  vd = sentiment.polarity_scores(element)\n",
        "  vader_text4_floyd.append(vd)\n",
        "\n",
        "vader_text4_floyd = pd.DataFrame(vader_text4_floyd)\n",
        "print(vader_text4_floyd)\n",
        "\n",
        "# adding to existing dataset\n",
        "vader_text4_floyd_negative = vader_text4_floyd.neg.values.tolist()\n",
        "df4_floyd_merged[\"negative\"] = vader_text4_floyd_negative\n",
        "vader_text4_floyd_neutral = vader_text4_floyd.neu.values.tolist()\n",
        "df4_floyd_merged[\"neutral\"] = vader_text4_floyd_neutral\n",
        "vader_text4_floyd_positive = vader_text4_floyd.pos.values.tolist()\n",
        "df4_floyd_merged[\"positive\"] = vader_text4_floyd_positive\n",
        "df4_floyd_merged # FLOYD Tweets of all Senators until Election Day\n",
        "\n",
        "#def categorise(row):  \n",
        "#    if row['positive'] > row['negative']:\n",
        "#        return 'positive'\n",
        "#    elif row['positive'] < row['negative']:\n",
        "#        return 'negative'\n",
        "#    return 'neutral'\n",
        "\n",
        "df4_floyd_merged['VADERclass'] = df4_floyd_merged.apply(lambda row: categorise(row), axis=1)\n",
        "\n",
        "count_VADER_df4_floyd_merged = df4_floyd_merged.groupby(by=['date','Party', 'VADERclass'], as_index=False)['text'].count()\n",
        "print(count_VADER_df4_floyd_merged)\n",
        "\n",
        "# plotting: *Floyd* Tweet Counts for Senators *until Election Day*\n",
        "dem_pos4 = count_VADER_df4_floyd_merged[(count_VADER_df4_floyd_merged[\"Party\"] == \"D\") & (count_VADER_df4_floyd_merged['VADERclass'] == \"positive\")]\n",
        "rep_pos4 = count_VADER_df4_floyd_merged[(count_VADER_df4_floyd_merged[\"Party\"] == \"R\") & (count_VADER_df4_floyd_merged['VADERclass'] == \"positive\")]\n",
        "dem_neg4 = count_VADER_df4_floyd_merged[(count_VADER_df4_floyd_merged[\"Party\"] == \"D\") & (count_VADER_df4_floyd_merged['VADERclass'] == \"negative\")]\n",
        "rep_neg4 = count_VADER_df4_floyd_merged[(count_VADER_df4_floyd_merged[\"Party\"] == \"R\") & (count_VADER_df4_floyd_merged['VADERclass'] == \"negative\")]\n",
        "#import matplotlib.pyplot as plt\n",
        "figx, axes = plt.subplots(2, 1, figsize=(10, 6))\n",
        "axes[0].plot(dem_pos4[\"date\"], dem_pos4[\"text\"], label = \"Democrats\", color = \"blue\", linewidth = 2.5)\n",
        "axes[0].plot(rep_pos4[\"date\"], rep_pos4[\"text\"], label = \"Republicans\", color = \"red\", linewidth = 2.5)\n",
        "axes[0].legend(frameon=False, fontsize=12)\n",
        "axes[0].set_title(\"Number of FLOYD Positive Tweets until Election Day by Party\", fontsize=15)\n",
        "axes[0].set_ylabel(\"Count\", fontsize=12)\n",
        "axes[0].set_xticks([])\n",
        "axes[0].set_xticklabels([\"Jun 2020\",\"Jul 2020\", \"Aug 2020\", \"Sep 2020\", \"Oct 2020\", \"Nov 2020\"], fontsize=12, rotation = 45)\n",
        "\n",
        "axes[1].plot(dem_neg4[\"date\"], dem_neg4[\"text\"], label = \"Democrats\", color = \"blue\", linewidth = 2.5)\n",
        "axes[1].plot(rep_neg4[\"date\"], rep_neg4[\"text\"], label = \"Republicans\", color = \"red\", linewidth = 2.5)\n",
        "axes[1].legend(frameon=False, fontsize=12)\n",
        "axes[1].set_title(\"Number of FLOYD Negative Tweets until Election Day by Party\", fontsize=15)\n",
        "axes[1].set_ylabel(\"Count\", fontsize=11)\n",
        "axes[1].set_xticklabels([\"Jun 2020\",\"Jul 2020\", \"Aug 2020\", \"Sep 2020\", \"Oct 2020\", \"Nov 2020\"], fontsize=12, rotation = 45)"
      ],
      "metadata": {
        "id": "qYIIQz3oerBL"
      },
      "execution_count": null,
      "outputs": []
    },
    {
      "cell_type": "code",
      "source": [
        "# saving plot into image file\n",
        "# import matplotlib.pyplot as plt\n",
        "plt.savefig('Number of FLOYD Positive and Negative Tweets until Election Day by Party.png')"
      ],
      "metadata": {
        "id": "VF4QF97bezu6"
      },
      "execution_count": null,
      "outputs": []
    },
    {
      "cell_type": "code",
      "source": [
        "# computing ratios of positive to negative Tweets *until Election Day*: Dem vs. Rep \n",
        "dem_ratio4 = dem_pos4.merge(dem_neg4, on = 'date')\n",
        "dem_ratio4['ratio'] = dem_ratio4['text_x']/dem_ratio4['text_y']\n",
        "rep_ratio4 = rep_pos4.merge(rep_neg4, on = 'date')\n",
        "rep_ratio4['ratio'] = rep_ratio4['text_x']/rep_ratio4['text_y']\n",
        "\n",
        "# making a plot of the ratios\n",
        "figx, axes = plt.subplots(1, 1, figsize=(10, 6))\n",
        "axes.plot(dem_ratio4[\"date\"], dem_ratio4[\"ratio\"].rolling(3).mean(), label = \"Democrats\", color = \"blue\", linewidth = 2.5)\n",
        "axes.plot(rep_ratio4[\"date\"], rep_ratio4[\"ratio\"].rolling(3).mean(), label = \"Republicans\", color = \"red\", linewidth = 2.5)\n",
        "axes.legend(frameon=False, fontsize=12)\n",
        "axes.set_title(\"Ratio of FLOYD Positive Tweets to Negative Tweets until Election Day by Party\", fontsize=20)\n",
        "axes.set_ylabel(\"Ratio\", fontsize=14)\n",
        "axes.set_xticklabels([\"May 29\",\"May 31\",\"Jun 1\",\"Jun 3\",\"Jun 5\",\"Jun 7\"], fontsize=12, rotation = 45)\n",
        "axes.set_xticklabels([\"Jun 2020\",\"Jul 2020\", \"Aug 2020\", \"Sep 2020\", \"Oct 2020\", \"Nov 2020\"], fontsize=12, rotation = 45)"
      ],
      "metadata": {
        "id": "lbCqYwKSe1Tj"
      },
      "execution_count": null,
      "outputs": []
    },
    {
      "cell_type": "code",
      "source": [
        "# saving plot into image file\n",
        "# import matplotlib.pyplot as plt\n",
        "plt.savefig('Ratio of FLOYD Positive to Negative Tweets until Election Day by Party.png')"
      ],
      "metadata": {
        "id": "O552RMt7e30A"
      },
      "execution_count": null,
      "outputs": []
    },
    {
      "cell_type": "code",
      "source": [
        "# saving VADER-added dataframes as csv file\n",
        "df1_floyd_merged.to_excel('all_floyd_2weeks_merged_VADER-added.xlsx')\n",
        "df4_floyd_merged.to_excel('all_floyd_fulltime_merged_VADER-added.xlsx')"
      ],
      "metadata": {
        "id": "ve2Q5yWce5Uv"
      },
      "execution_count": null,
      "outputs": []
    }
  ]
}